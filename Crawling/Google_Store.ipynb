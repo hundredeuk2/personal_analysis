{
 "cells": [
  {
   "cell_type": "code",
   "execution_count": 27,
   "metadata": {},
   "outputs": [],
   "source": [
    "from selenium import webdriver\n",
    "import time"
   ]
  },
  {
   "cell_type": "code",
   "execution_count": 31,
   "metadata": {},
   "outputs": [],
   "source": [
    "# url = \"https://play.google.com/store/apps/details?id=me.zepeto.main&showAllReviews=true\"\n",
    "\n",
    "url = 'https://play.google.com/store/apps/details?id=com.ai.face.play&showAllReviews=true'"
   ]
  },
  {
   "cell_type": "code",
   "execution_count": 32,
   "metadata": {},
   "outputs": [],
   "source": [
    "driver = webdriver.Chrome(\"./chromedriver\")\n",
    "driver.get(url)"
   ]
  },
  {
   "cell_type": "code",
   "execution_count": null,
   "metadata": {},
   "outputs": [],
   "source": []
  },
  {
   "cell_type": "code",
   "execution_count": 57,
   "metadata": {
    "scrolled": true
   },
   "outputs": [
    {
     "data": {
      "text/plain": [
       "'안 된다는 분들 많으셔서 말씀 드립니다~ 1. 터치가 안 돼요 - 터치팬으로 사용하면 잘 됩니다. 없으면 손가락으로 여러 번 처치하면 됩니다. 터치를 길게 하면 될 때도 있습니다. 이것도 안 되면 안 하시면 됩니다~ 2. 무료 유료? - 결제하라고 뜨면 x 누르면 됩니다. 다이아몬드 표시 없는 영상들은 무료로도 가능합니다만 광고가 뜹니다. 쥰내 느립니다. 유료 결제하면 속이 편해집니다~ 다이아몬드 표시 된 거 사용 가능합니다. 더 자연스러워 집니다. 3. 계속 영상 제작 실패함 - 앞머리 있는 사진 이라 그럴 확률 70% 입니다. ...\\n전체 리뷰'"
      ]
     },
     "execution_count": 57,
     "metadata": {},
     "output_type": "execute_result"
    }
   ],
   "source": [
    "review = driver.find_element_by_xpath(\"//span[@jsname='bN97Pc']\")\n",
    "review.text"
   ]
  },
  {
   "cell_type": "code",
   "execution_count": 66,
   "metadata": {},
   "outputs": [
    {
     "ename": "TypeError",
     "evalue": "'WebElement' object is not subscriptable",
     "output_type": "error",
     "traceback": [
      "\u001b[0;31m---------------------------------------------------------------------------\u001b[0m",
      "\u001b[0;31mTypeError\u001b[0m                                 Traceback (most recent call last)",
      "\u001b[0;32m<ipython-input-66-c54f3c8b8341>\u001b[0m in \u001b[0;36m<module>\u001b[0;34m\u001b[0m\n\u001b[0;32m----> 1\u001b[0;31m \u001b[0mreview\u001b[0m\u001b[0;34m[\u001b[0m\u001b[0;36m0\u001b[0m\u001b[0;34m]\u001b[0m\u001b[0;34m.\u001b[0m\u001b[0mclick\u001b[0m\u001b[0;34m(\u001b[0m\u001b[0;34m)\u001b[0m\u001b[0;34m\u001b[0m\u001b[0;34m\u001b[0m\u001b[0m\n\u001b[0m",
      "\u001b[0;31mTypeError\u001b[0m: 'WebElement' object is not subscriptable"
     ]
    }
   ],
   "source": [
    "review[0].click()"
   ]
  },
  {
   "cell_type": "code",
   "execution_count": 51,
   "metadata": {},
   "outputs": [
    {
     "data": {
      "text/plain": [
       "'2021년 9월 7일'"
      ]
     },
     "execution_count": 51,
     "metadata": {},
     "output_type": "execute_result"
    }
   ],
   "source": [
    "date = driver.find_element_by_xpath(\"//span[@class='p2TkOb']\")\n",
    "date.text"
   ]
  },
  {
   "cell_type": "code",
   "execution_count": 52,
   "metadata": {},
   "outputs": [
    {
     "data": {
      "text/plain": [
       "'15'"
      ]
     },
     "execution_count": 52,
     "metadata": {},
     "output_type": "execute_result"
    }
   ],
   "source": [
    "like = driver.find_element_by_xpath(\"//div[@class='jUL89d y92BAb']\")\n",
    "like.text"
   ]
  },
  {
   "cell_type": "code",
   "execution_count": 53,
   "metadata": {},
   "outputs": [
    {
     "data": {
      "text/plain": [
       "'별표 5개 만점에 5개를 받았습니다.'"
      ]
     },
     "execution_count": 53,
     "metadata": {},
     "output_type": "execute_result"
    }
   ],
   "source": [
    "star = driver.find_element_by_xpath(\"//span[@class='nt2C1d']/div[@class='pf5lIe']/div[@role='img']\")\n",
    "star.get_attribute('aria-label')"
   ]
  },
  {
   "cell_type": "code",
   "execution_count": null,
   "metadata": {},
   "outputs": [],
   "source": []
  },
  {
   "cell_type": "code",
   "execution_count": 54,
   "metadata": {},
   "outputs": [
    {
     "data": {
      "text/plain": [
       "517"
      ]
     },
     "execution_count": 54,
     "metadata": {},
     "output_type": "execute_result"
    }
   ],
   "source": [
    "reviews = driver.find_elements_by_xpath(\"//span[@jsname='bN97Pc']\")\n",
    "len(reviews)"
   ]
  },
  {
   "cell_type": "code",
   "execution_count": 38,
   "metadata": {
    "scrolled": true
   },
   "outputs": [
    {
     "ename": "IndexError",
     "evalue": "list index out of range",
     "output_type": "error",
     "traceback": [
      "\u001b[0;31m---------------------------------------------------------------------------\u001b[0m",
      "\u001b[0;31mIndexError\u001b[0m                                Traceback (most recent call last)",
      "\u001b[0;32m<ipython-input-38-f2a357717b67>\u001b[0m in \u001b[0;36m<module>\u001b[0;34m\u001b[0m\n\u001b[1;32m      6\u001b[0m         \u001b[0mtime\u001b[0m\u001b[0;34m.\u001b[0m\u001b[0msleep\u001b[0m\u001b[0;34m(\u001b[0m\u001b[0mpause_time\u001b[0m\u001b[0;34m)\u001b[0m\u001b[0;34m\u001b[0m\u001b[0;34m\u001b[0m\u001b[0m\n\u001b[1;32m      7\u001b[0m \u001b[0;34m\u001b[0m\u001b[0m\n\u001b[0;32m----> 8\u001b[0;31m     \u001b[0mdriver\u001b[0m\u001b[0;34m.\u001b[0m\u001b[0mfind_elements_by_xpath\u001b[0m\u001b[0;34m(\u001b[0m\u001b[0;34m\"//span[@class='RveJvd snByac']\"\u001b[0m\u001b[0;34m)\u001b[0m\u001b[0;34m[\u001b[0m\u001b[0;36m0\u001b[0m\u001b[0;34m]\u001b[0m\u001b[0;34m.\u001b[0m\u001b[0mclick\u001b[0m\u001b[0;34m(\u001b[0m\u001b[0;34m)\u001b[0m\u001b[0;34m\u001b[0m\u001b[0;34m\u001b[0m\u001b[0m\n\u001b[0m\u001b[1;32m      9\u001b[0m \u001b[0;34m\u001b[0m\u001b[0m\n\u001b[1;32m     10\u001b[0m     \u001b[0mnew_height\u001b[0m \u001b[0;34m=\u001b[0m \u001b[0mdriver\u001b[0m\u001b[0;34m.\u001b[0m\u001b[0mexecute_script\u001b[0m\u001b[0;34m(\u001b[0m\u001b[0;34m\"return document.body.scrollHeight\"\u001b[0m\u001b[0;34m)\u001b[0m\u001b[0;34m\u001b[0m\u001b[0;34m\u001b[0m\u001b[0m\n",
      "\u001b[0;31mIndexError\u001b[0m: list index out of range"
     ]
    }
   ],
   "source": [
    "pause_time = 2\n",
    "last_height = driver.execute_script('return document.body.scrollHeight')\n",
    "while True :\n",
    "    for i in range(4):\n",
    "        driver.execute_script(\"window.scrollTo(0, document.body.scrollHeight);\")\n",
    "        time.sleep(pause_time)\n",
    "        \n",
    "    driver.find_elements_by_xpath(\"//span[@class='RveJvd snByac']\")[0].click()\n",
    "    \n",
    "    new_height = driver.execute_script(\"return document.body.scrollHeight\")\n",
    "    if new_height == last_height:\n",
    "        break\n",
    "    last_height = new_height"
   ]
  },
  {
   "cell_type": "code",
   "execution_count": 90,
   "metadata": {},
   "outputs": [
    {
     "ename": "IndexError",
     "evalue": "list index out of range",
     "output_type": "error",
     "traceback": [
      "\u001b[0;31m---------------------------------------------------------------------------\u001b[0m",
      "\u001b[0;31mIndexError\u001b[0m                                Traceback (most recent call last)",
      "\u001b[0;32m<ipython-input-90-1d1f173e1fda>\u001b[0m in \u001b[0;36m<module>\u001b[0;34m\u001b[0m\n\u001b[1;32m      1\u001b[0m \u001b[0mspread_review\u001b[0m \u001b[0;34m=\u001b[0m \u001b[0mdriver\u001b[0m\u001b[0;34m.\u001b[0m\u001b[0mfind_elements_by_xpath\u001b[0m\u001b[0;34m(\u001b[0m\u001b[0;34m\"//button[@jsaction='click:TiglPc']\"\u001b[0m\u001b[0;34m)\u001b[0m\u001b[0;34m\u001b[0m\u001b[0;34m\u001b[0m\u001b[0m\n\u001b[1;32m      2\u001b[0m \u001b[0;32mfor\u001b[0m \u001b[0mi\u001b[0m \u001b[0;32min\u001b[0m \u001b[0mrange\u001b[0m\u001b[0;34m(\u001b[0m\u001b[0mlen\u001b[0m\u001b[0;34m(\u001b[0m\u001b[0mreviews\u001b[0m\u001b[0;34m)\u001b[0m\u001b[0;34m)\u001b[0m\u001b[0;34m:\u001b[0m\u001b[0;34m\u001b[0m\u001b[0;34m\u001b[0m\u001b[0m\n\u001b[0;32m----> 3\u001b[0;31m     \u001b[0misTrue\u001b[0m \u001b[0;34m=\u001b[0m \u001b[0mspread_review\u001b[0m\u001b[0;34m[\u001b[0m\u001b[0mi\u001b[0m\u001b[0;34m]\u001b[0m\u001b[0;34m.\u001b[0m\u001b[0mis_displayed\u001b[0m\u001b[0;34m(\u001b[0m\u001b[0;34m)\u001b[0m\u001b[0;34m\u001b[0m\u001b[0;34m\u001b[0m\u001b[0m\n\u001b[0m\u001b[1;32m      4\u001b[0m     \u001b[0;32mif\u001b[0m \u001b[0misTrue\u001b[0m \u001b[0;34m:\u001b[0m\u001b[0;34m\u001b[0m\u001b[0;34m\u001b[0m\u001b[0m\n\u001b[1;32m      5\u001b[0m         \u001b[0mspread_review\u001b[0m\u001b[0;34m[\u001b[0m\u001b[0mi\u001b[0m\u001b[0;34m]\u001b[0m\u001b[0;34m.\u001b[0m\u001b[0mclick\u001b[0m\u001b[0;34m(\u001b[0m\u001b[0;34m)\u001b[0m\u001b[0;34m\u001b[0m\u001b[0;34m\u001b[0m\u001b[0m\n",
      "\u001b[0;31mIndexError\u001b[0m: list index out of range"
     ]
    }
   ],
   "source": [
    "spread_review = driver.find_elements_by_xpath(\"//button[@jsaction='click:TiglPc']\")\n",
    "for i in range(len(reviews)):\n",
    "    isTrue = spread_review[i].is_displayed()\n",
    "    if isTrue :\n",
    "        spread_review[i].click()\n",
    "        time.sleep(2)"
   ]
  },
  {
   "cell_type": "code",
   "execution_count": 43,
   "metadata": {
    "scrolled": true
   },
   "outputs": [
    {
     "data": {
      "text/plain": [
       "40"
      ]
     },
     "execution_count": 43,
     "metadata": {},
     "output_type": "execute_result"
    }
   ],
   "source": [
    "# len(reviews)"
   ]
  },
  {
   "cell_type": "code",
   "execution_count": 55,
   "metadata": {
    "scrolled": true
   },
   "outputs": [
    {
     "ename": "TypeError",
     "evalue": "'WebElement' object is not subscriptable",
     "output_type": "error",
     "traceback": [
      "\u001b[0;31m---------------------------------------------------------------------------\u001b[0m",
      "\u001b[0;31mTypeError\u001b[0m                                 Traceback (most recent call last)",
      "\u001b[0;32m<ipython-input-55-30421c4a56dc>\u001b[0m in \u001b[0;36m<module>\u001b[0;34m\u001b[0m\n\u001b[1;32m      1\u001b[0m \u001b[0mres_dict\u001b[0m \u001b[0;34m=\u001b[0m \u001b[0;34m[\u001b[0m\u001b[0;34m]\u001b[0m\u001b[0;34m\u001b[0m\u001b[0;34m\u001b[0m\u001b[0m\n\u001b[1;32m      2\u001b[0m \u001b[0;32mfor\u001b[0m \u001b[0mi\u001b[0m \u001b[0;32min\u001b[0m \u001b[0mrange\u001b[0m\u001b[0;34m(\u001b[0m\u001b[0mlen\u001b[0m\u001b[0;34m(\u001b[0m\u001b[0mreviews\u001b[0m\u001b[0;34m)\u001b[0m\u001b[0;34m)\u001b[0m\u001b[0;34m:\u001b[0m\u001b[0;34m\u001b[0m\u001b[0;34m\u001b[0m\u001b[0m\n\u001b[0;32m----> 3\u001b[0;31m     res_dict.append({ 'DATE' : date[i].text, \n\u001b[0m\u001b[1;32m      4\u001b[0m                      \u001b[0;34m'STAR'\u001b[0m \u001b[0;34m:\u001b[0m \u001b[0mstars\u001b[0m\u001b[0;34m[\u001b[0m\u001b[0mi\u001b[0m\u001b[0;34m]\u001b[0m\u001b[0;34m.\u001b[0m\u001b[0mget_attribute\u001b[0m\u001b[0;34m(\u001b[0m\u001b[0;34m'aria-label'\u001b[0m\u001b[0;34m)\u001b[0m\u001b[0;34m,\u001b[0m\u001b[0;34m\u001b[0m\u001b[0;34m\u001b[0m\u001b[0m\n\u001b[1;32m      5\u001b[0m                      \u001b[0;34m'LIKE'\u001b[0m \u001b[0;34m:\u001b[0m \u001b[0mlikes\u001b[0m\u001b[0;34m[\u001b[0m\u001b[0mi\u001b[0m\u001b[0;34m]\u001b[0m\u001b[0;34m.\u001b[0m\u001b[0mtext\u001b[0m\u001b[0;34m,\u001b[0m\u001b[0;34m\u001b[0m\u001b[0;34m\u001b[0m\u001b[0m\n",
      "\u001b[0;31mTypeError\u001b[0m: 'WebElement' object is not subscriptable"
     ]
    }
   ],
   "source": [
    "# res_dict = [] \n",
    "# for i in range(len(reviews)): \n",
    "#     res_dict.append({ 'DATE' : date[i].text, \n",
    "#                      'STAR' : stars[i].get_attribute('aria-label'), \n",
    "#                      'LIKE' : likes[i].text, \n",
    "#                      'REVIEW' : reviews[i].text }) \n",
    "# res_df = pd.DataFrame(res_dict)\n",
    "# res_df.head()"
   ]
  },
  {
   "cell_type": "code",
   "execution_count": 71,
   "metadata": {},
   "outputs": [],
   "source": [
    "import pandas as pd"
   ]
  },
  {
   "cell_type": "code",
   "execution_count": 91,
   "metadata": {},
   "outputs": [],
   "source": [
    "data = pd.DataFrame(data=[], columns=['리뷰','별점','날짜'])"
   ]
  },
  {
   "cell_type": "code",
   "execution_count": 92,
   "metadata": {},
   "outputs": [],
   "source": [
    "def crawl(driver, data, k):\n",
    "    \n",
    "    # 어플 이름, 아이디, 리뷰, 별점, 날짜 수집\n",
    "    reviews = driver.find_elements_by_css_selector('.UD7Dzf')\n",
    "    star_grades = driver.find_elements_by_xpath('//div[@class=\"pf5lIe\"]/div[@role=\"img\"]')\n",
    "    dates = driver.find_elements_by_css_selector('.p2TkOb')\n",
    "    \n",
    "    # k개의 리뷰를 수집합니다.\n",
    "    for i in range(k):\n",
    "        tmp = []\n",
    "        tmp.append(reviews[i].text)\n",
    "        tmp.append(star_grades[i].get_attribute('aria-label'))\n",
    "        tmp.append(dates[i].text)\n",
    "        \n",
    "        # 수집한 1명의 리뷰를 결과 프레임에 추가합니다.\n",
    "        tmp = pd.DataFrame(data=[tmp], columns=data.columns)\n",
    "        data = pd.concat([data,tmp])\n",
    "        \n",
    "    print(\"앱 리뷰 수집 완료\")\n",
    "    \n",
    "    return data"
   ]
  },
  {
   "cell_type": "code",
   "execution_count": 93,
   "metadata": {},
   "outputs": [
    {
     "name": "stdout",
     "output_type": "stream",
     "text": [
      "앱 리뷰 수집 완료\n"
     ]
    }
   ],
   "source": [
    "data = crawl(driver,data, len(reviews))"
   ]
  },
  {
   "cell_type": "code",
   "execution_count": 94,
   "metadata": {},
   "outputs": [
    {
     "data": {
      "text/html": [
       "<div>\n",
       "<style scoped>\n",
       "    .dataframe tbody tr th:only-of-type {\n",
       "        vertical-align: middle;\n",
       "    }\n",
       "\n",
       "    .dataframe tbody tr th {\n",
       "        vertical-align: top;\n",
       "    }\n",
       "\n",
       "    .dataframe thead th {\n",
       "        text-align: right;\n",
       "    }\n",
       "</style>\n",
       "<table border=\"1\" class=\"dataframe\">\n",
       "  <thead>\n",
       "    <tr style=\"text-align: right;\">\n",
       "      <th></th>\n",
       "      <th>리뷰</th>\n",
       "      <th>별점</th>\n",
       "      <th>날짜</th>\n",
       "    </tr>\n",
       "  </thead>\n",
       "  <tbody>\n",
       "    <tr>\n",
       "      <th>0</th>\n",
       "      <td>안 된다는 분들 많으셔서 말씀 드립니다~ 1. 터치가 안 돼요 - 터치팬으로 사용하...</td>\n",
       "      <td>별표 5개 만점에 3.8개를 받았습니다.</td>\n",
       "      <td>2021년 9월 7일</td>\n",
       "    </tr>\n",
       "    <tr>\n",
       "      <th>0</th>\n",
       "      <td>일주일 터치도 잘 안되고 정말 힘들게 사용하다 잊고있었는데 또 결제가? 뭐죠? 이건...</td>\n",
       "      <td>별표 5개 만점에 5개를 받았습니다.</td>\n",
       "      <td>2021년 9월 6일</td>\n",
       "    </tr>\n",
       "    <tr>\n",
       "      <th>0</th>\n",
       "      <td>? 안드로이드 터치 진짜 6번클릭해야들어가져요ㅡㅡ 그래서 어플삭제하고 다시 설치하니...</td>\n",
       "      <td>별표 5개 만점에 1개를 받았습니다.</td>\n",
       "      <td>2021년 9월 9일</td>\n",
       "    </tr>\n",
       "    <tr>\n",
       "      <th>0</th>\n",
       "      <td>뭔 터치가 안되요 그리고 돈을 요구하는 데 돈을 내야지만 터치가 되는 건가요? 여러...</td>\n",
       "      <td>별표 5개 만점에 1개를 받았습니다.</td>\n",
       "      <td>2021년 8월 30일</td>\n",
       "    </tr>\n",
       "    <tr>\n",
       "      <th>0</th>\n",
       "      <td>결제 진행까지는 원만하나 결제 이후부터는 앱이 실행되지 않습니다. 앱 오류문제인듯 ...</td>\n",
       "      <td>별표 5개 만점에 1개를 받았습니다.</td>\n",
       "      <td>2021년 8월 29일</td>\n",
       "    </tr>\n",
       "    <tr>\n",
       "      <th>...</th>\n",
       "      <td>...</td>\n",
       "      <td>...</td>\n",
       "      <td>...</td>\n",
       "    </tr>\n",
       "    <tr>\n",
       "      <th>0</th>\n",
       "      <td>터치가 잘 안되요</td>\n",
       "      <td>별표 5개 만점에 1개를 받았습니다.</td>\n",
       "      <td>2021년 9월 1일</td>\n",
       "    </tr>\n",
       "    <tr>\n",
       "      <th>0</th>\n",
       "      <td>안됨</td>\n",
       "      <td>별표 5개 만점에 1개를 받았습니다.</td>\n",
       "      <td>2021년 9월 10일</td>\n",
       "    </tr>\n",
       "    <tr>\n",
       "      <th>0</th>\n",
       "      <td>전나 느림</td>\n",
       "      <td>별표 5개 만점에 1개를 받았습니다.</td>\n",
       "      <td>2021년 9월 3일</td>\n",
       "    </tr>\n",
       "    <tr>\n",
       "      <th>0</th>\n",
       "      <td>사기꾼</td>\n",
       "      <td>별표 5개 만점에 1개를 받았습니다.</td>\n",
       "      <td>2021년 9월 3일</td>\n",
       "    </tr>\n",
       "    <tr>\n",
       "      <th>0</th>\n",
       "      <td>느림</td>\n",
       "      <td>별표 5개 만점에 1개를 받았습니다.</td>\n",
       "      <td>2021년 9월 1일</td>\n",
       "    </tr>\n",
       "  </tbody>\n",
       "</table>\n",
       "<p>517 rows × 3 columns</p>\n",
       "</div>"
      ],
      "text/plain": [
       "                                                   리뷰                      별점  \\\n",
       "0   안 된다는 분들 많으셔서 말씀 드립니다~ 1. 터치가 안 돼요 - 터치팬으로 사용하...  별표 5개 만점에 3.8개를 받았습니다.   \n",
       "0   일주일 터치도 잘 안되고 정말 힘들게 사용하다 잊고있었는데 또 결제가? 뭐죠? 이건...    별표 5개 만점에 5개를 받았습니다.   \n",
       "0   ? 안드로이드 터치 진짜 6번클릭해야들어가져요ㅡㅡ 그래서 어플삭제하고 다시 설치하니...    별표 5개 만점에 1개를 받았습니다.   \n",
       "0   뭔 터치가 안되요 그리고 돈을 요구하는 데 돈을 내야지만 터치가 되는 건가요? 여러...    별표 5개 만점에 1개를 받았습니다.   \n",
       "0   결제 진행까지는 원만하나 결제 이후부터는 앱이 실행되지 않습니다. 앱 오류문제인듯 ...    별표 5개 만점에 1개를 받았습니다.   \n",
       "..                                                ...                     ...   \n",
       "0                                           터치가 잘 안되요    별표 5개 만점에 1개를 받았습니다.   \n",
       "0                                                  안됨    별표 5개 만점에 1개를 받았습니다.   \n",
       "0                                               전나 느림    별표 5개 만점에 1개를 받았습니다.   \n",
       "0                                                 사기꾼    별표 5개 만점에 1개를 받았습니다.   \n",
       "0                                                  느림    별표 5개 만점에 1개를 받았습니다.   \n",
       "\n",
       "              날짜  \n",
       "0    2021년 9월 7일  \n",
       "0    2021년 9월 6일  \n",
       "0    2021년 9월 9일  \n",
       "0   2021년 8월 30일  \n",
       "0   2021년 8월 29일  \n",
       "..           ...  \n",
       "0    2021년 9월 1일  \n",
       "0   2021년 9월 10일  \n",
       "0    2021년 9월 3일  \n",
       "0    2021년 9월 3일  \n",
       "0    2021년 9월 1일  \n",
       "\n",
       "[517 rows x 3 columns]"
      ]
     },
     "execution_count": 94,
     "metadata": {},
     "output_type": "execute_result"
    }
   ],
   "source": [
    "data"
   ]
  },
  {
   "cell_type": "code",
   "execution_count": 95,
   "metadata": {},
   "outputs": [
    {
     "data": {
      "text/plain": [
       "'안 된다는 분들 많으셔서 말씀 드립니다~ 1. 터치가 안 돼요 - 터치팬으로 사용하면 잘 됩니다. 없으면 손가락으로 여러 번 처치하면 됩니다. 터치를 길게 하면 될 때도 있습니다. 이것도 안 되면 안 하시면 됩니다~ 2. 무료 유료? - 결제하라고 뜨면 x 누르면 됩니다. 다이아몬드 표시 없는 영상들은 무료로도 가능합니다만 광고가 뜹니다. 쥰내 느립니다. 유료 결제하면 속이 편해집니다~ 다이아몬드 표시 된 거 사용 가능합니다. 더 자연스러워 집니다. 3. 계속 영상 제작 실패함 - 앞머리 있는 사진 이라 그럴 확률 70% 입니다. 사진마다 되는 게 있고 안 되는 게 있습니다~ 저도 쥰내 답답했었기에 같이 공유하려고 올립니다~~ 그냥 3200원 내는 게 편한 것 같습니다~~ 개인 정보 팔리는 건 저도 잘 모르는데, 이젠 그러려니 하고 앱 이용합니다~~ 그럼 즐거운 인싸 생활 하세요~~'"
      ]
     },
     "execution_count": 95,
     "metadata": {},
     "output_type": "execute_result"
    }
   ],
   "source": [
    "data.iloc[0,0]"
   ]
  },
  {
   "cell_type": "code",
   "execution_count": null,
   "metadata": {},
   "outputs": [],
   "source": []
  }
 ],
 "metadata": {
  "kernelspec": {
   "display_name": "Python 3",
   "language": "python",
   "name": "python3"
  },
  "language_info": {
   "codemirror_mode": {
    "name": "ipython",
    "version": 3
   },
   "file_extension": ".py",
   "mimetype": "text/x-python",
   "name": "python",
   "nbconvert_exporter": "python",
   "pygments_lexer": "ipython3",
   "version": "3.7.9"
  }
 },
 "nbformat": 4,
 "nbformat_minor": 4
}
