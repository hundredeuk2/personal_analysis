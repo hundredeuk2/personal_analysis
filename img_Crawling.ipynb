{
 "cells": [
  {
   "cell_type": "code",
   "execution_count": 1,
   "metadata": {},
   "outputs": [],
   "source": [
    "import requests\n",
    "import json"
   ]
  },
  {
   "cell_type": "code",
   "execution_count": 7,
   "metadata": {},
   "outputs": [],
   "source": [
    "url =  \"https://apis.zigbang.com/v2/danjis/22401/room_types?isAgentGroupSorting=true\""
   ]
  },
  {
   "cell_type": "code",
   "execution_count": 8,
   "metadata": {},
   "outputs": [],
   "source": [
    "req = requests.get(url)"
   ]
  },
  {
   "cell_type": "code",
   "execution_count": 9,
   "metadata": {},
   "outputs": [
    {
     "name": "stdout",
     "output_type": "stream",
     "text": [
      "dict_keys(['id', 'name', 'average_rent_price', 'average_sales_price', 'minSalesPrice', 'maxSalesPrice', 'room_types', 'real_type', '국민주택채권할인률', 'isSpecialArea', 'isShowCalculator'])\n"
     ]
    }
   ],
   "source": [
    "if req.status_code == 200 :\n",
    "    data = json.loads(req.text)\n",
    "    print(data.keys())"
   ]
  },
  {
   "cell_type": "code",
   "execution_count": 12,
   "metadata": {},
   "outputs": [
    {
     "name": "stdout",
     "output_type": "stream",
     "text": [
      "[{'id': 56154, '총세대수': 146, '공급면적': {'m2': 99.15, 'p': 29.99}, '계약면적': None, '전용면적': {'m2': 74.52, 'p': 22.54}, 'room_type_title': {'m2': '99', 'p': '30'}, '방': 3, '욕실': 2, '현관구조': '계단식', 'floor_plan': 'https://ic.zigbang.com/ic/floorplan/22401/56154/f0783bff391f4e879ee8a63fbca51bff.png', '분양가': None, '분양가PyeongPrice': None, 'has호분양가': False, 'manage_cost': {'관리비': 21, '여름관리비': 19, '겨울관리비': 25, '개별난방': False}, '거래가능시점': None, 'rent_price': {'min': 26000, 'max': 26000, 'avg': None, 'per_area': 867, 'change': None}, 'sales_price': {'min': 65000, 'max': 65000, 'avg': None, 'per_area': 2167, 'change': None}, '공시가': {'has공시가격': True, '공시가격': 209000000}, '유형구분': '아파트', 'special_type_message': None}, {'id': 56155, '총세대수': 144, '공급면적': {'m2': 107.63, 'p': 32.55}, '계약면적': None, '전용면적': {'m2': 84.92, 'p': 25.68}, 'room_type_title': {'m2': '107', 'p': '32'}, '방': 3, '욕실': 2, '현관구조': '계단식', 'floor_plan': 'https://ic.zigbang.com/ic/floorplan/22401/56155/a85c44a615fb42c4a385ccdb23bc4861.png', '분양가': None, '분양가PyeongPrice': None, 'has호분양가': False, 'manage_cost': {'관리비': 24, '여름관리비': 22, '겨울관리비': 28, '개별난방': False}, '거래가능시점': None, 'rent_price': {'min': 30000, 'max': 30000, 'avg': None, 'per_area': 921, 'change': None}, 'sales_price': {'min': 75000, 'max': 75000, 'avg': None, 'per_area': 2304, 'change': None}, '공시가': {'has공시가격': True, '공시가격': 240000000}, '유형구분': '아파트', 'special_type_message': None}, {'id': 56156, '총세대수': 184, '공급면적': {'m2': 109.32, 'p': 33.06}, '계약면적': None, '전용면적': {'m2': 84.93, 'p': 25.69}, 'room_type_title': {'m2': '109', 'p': '33'}, '방': 3, '욕실': 2, '현관구조': '계단식', 'floor_plan': 'https://ic.zigbang.com/ic/floorplan/22401/56156/f3dac6b9bc844ecab6b44d63253ae971.png', '분양가': None, '분양가PyeongPrice': None, 'has호분양가': False, 'manage_cost': {'관리비': 24, '여름관리비': 22, '겨울관리비': 28, '개별난방': False}, '거래가능시점': None, 'rent_price': {'min': 30000, 'max': 30000, 'avg': None, 'per_area': 907, 'change': None}, 'sales_price': {'min': 70000, 'max': 70000, 'avg': None, 'per_area': 2117, 'change': None}, '공시가': {'has공시가격': True, '공시가격': 233000000}, '유형구분': '아파트', 'special_type_message': None}, {'id': 56157, '총세대수': 16, '공급면적': {'m2': 111.72, 'p': 33.79}, '계약면적': None, '전용면적': {'m2': 84.98, 'p': 25.7}, 'room_type_title': {'m2': '111', 'p': '34'}, '방': 3, '욕실': 2, '현관구조': '계단식', 'floor_plan': 'https://ic.zigbang.com/ic/floorplan/22401/56157/03f79c91dd864c68a0809ff74f60973a.png', '분양가': None, '분양가PyeongPrice': None, 'has호분양가': False, 'manage_cost': {'관리비': 24, '여름관리비': 22, '겨울관리비': 28, '개별난방': False}, '거래가능시점': None, 'rent_price': {'min': 31000, 'max': 31000, 'avg': None, 'per_area': 917, 'change': None}, 'sales_price': {'min': 72000, 'max': 72000, 'avg': None, 'per_area': 2130, 'change': None}, '공시가': {'has공시가격': True, '공시가격': 240000000}, '유형구분': '아파트', 'special_type_message': None}, {'id': 56158, '총세대수': 132, '공급면적': {'m2': 113.59, 'p': 34.36}, '계약면적': None, '전용면적': {'m2': 84.97, 'p': 25.7}, 'room_type_title': {'m2': '113', 'p': '34'}, '방': 3, '욕실': 2, '현관구조': '계단식', 'floor_plan': 'https://ic.zigbang.com/ic/floorplan/22401/56158/49e1b3e5058f4f5fa7fe02af851fba34.png', '분양가': None, '분양가PyeongPrice': None, 'has호분양가': False, 'manage_cost': {'관리비': 24, '여름관리비': 22, '겨울관리비': 28, '개별난방': False}, '거래가능시점': None, 'rent_price': {'min': 33000, 'max': 33000, 'avg': None, 'per_area': 960, 'change': None}, 'sales_price': {'min': 77000, 'max': 77000, 'avg': None, 'per_area': 2241, 'change': None}, '공시가': {'has공시가격': True, '공시가격': 257000000}, '유형구분': '아파트', 'special_type_message': None}]\n"
     ]
    }
   ],
   "source": [
    "print(data[\"room_types\"])"
   ]
  },
  {
   "cell_type": "code",
   "execution_count": 13,
   "metadata": {},
   "outputs": [],
   "source": [
    "url1 = \"https://apis.zigbang.com/v2/danjis/18402?leaseYn=N\""
   ]
  },
  {
   "cell_type": "code",
   "execution_count": 14,
   "metadata": {},
   "outputs": [
    {
     "name": "stdout",
     "output_type": "stream",
     "text": [
      "dict_keys(['id', 'name', 'local1', 'local2', 'local3', 'local2_code', 'local3_code', 'bunji', '구주소', 'jibunAddress', 'bcode', 'lat', 'lng', '시행사', '시공사', '서비스구분', '사용승인일', '분양세대수', '분양년월', '분양년월표기', '총세대수', '총동수', '최고층수', '최저층수', '가구당주차대수', '총주차대수', '주차위치', '난방방식', '난방연료', '편의시설', '용적율', '건폐율', '건설사', '관리사무소전화번호', 'roadview', 'desc', '내진설계', 'brand', 'brand_img', 'image', '현장투어작성일', '현장투어', 'review_score', 'review_cnt', 'review_recent', '순위', 'vr_hometours_summeries', 'vr_hometours', '규제지역', 'real_type', 'is후분양', 'zedExist', '제휴중개단지상세', 'zedMaintenance', 'zedEnable'])\n"
     ]
    }
   ],
   "source": [
    "req = requests.get(url1)\n",
    "if req.status_code == 200 :\n",
    "    data = json.loads(req.text)\n",
    "    print(data.keys())"
   ]
  },
  {
   "cell_type": "code",
   "execution_count": 15,
   "metadata": {},
   "outputs": [],
   "source": [
    "url2 = \"https://apis.zigbang.com/property/apartments/18402/reviews/v1\""
   ]
  },
  {
   "cell_type": "code",
   "execution_count": 16,
   "metadata": {},
   "outputs": [
    {
     "name": "stdout",
     "output_type": "stream",
     "text": [
      "dict_keys(['summary', 'data'])\n"
     ]
    }
   ],
   "source": [
    "req = requests.get(url2)\n",
    "if req.status_code == 200 :\n",
    "    data = json.loads(req.text)\n",
    "    print(data.keys())"
   ]
  },
  {
   "cell_type": "code",
   "execution_count": 17,
   "metadata": {},
   "outputs": [
    {
     "data": {
      "text/plain": [
       "[{'id': 339030,\n",
       "  'age': '50대',\n",
       "  'sex': '남자',\n",
       "  'married': '기혼',\n",
       "  'residenceTime': '2019년에 거주',\n",
       "  'residenceType': '자가 거주',\n",
       "  'score': 5,\n",
       "  'desc': '주변에 농협마트 차로 3분거리 도보로 8분거리, 10분 거리에 MBC, JTBC, SBS, YTN 등 방송가가 있어 먹거리 볼거리가 잘 발달되어 있다.',\n",
       "  'trafficScore': 5,\n",
       "  'trafficDesc': '디지털미디어시티역과 월드컵역이 도보로 5-7분거리이고, 홍대 신촌 연대 앞 거쳐 시내로 들어가는 버스, 그리고 강남대로로 직행하는 광역버스 9711번 정류장이 바로 앞에 있어 매우 교통이 좋다. 전철역은 6호선, 경의선, 공항철도가 연결되어 있어 매우 편리하다.',\n",
       "  'aroundScore': 5,\n",
       "  'aroundDesc': '아파트 단지 바로 뒤에 매봉산이 있어 둘레길이 있고, 바로 옆에 월드컵 공원, 하늘 공원, 난지천 공원과 문화 비축 기지, 그리고 한강까지 뻗어 있는 난지천이 있어 운동하기 더할 나위 없이 좋다. 주변에 농협마트 차로 3분거리 도보로 8분거리, 10분 거리에 MBC, JTBC, SBS, YTN 등 방송가가 있어 먹거리 볼거리가 잘 발달되어 있다.',\n",
       "  'careScore': 5,\n",
       "  'careDesc': '공동현관과 개별현관에 모두 비빌번호로 열리게 관리하고 있고 차량 차단기도 설치되어 있다. 그리고 구청에서 관리하는 녹지 공원이 바로 단지 뒤에 있어 아파트 공간 처럼 사용할 수 있다.',\n",
       "  'residentScore': 5,\n",
       "  'residentDesc': '거주했던 105동 1001호는 최상층 복층 구조로 전망이 주간, 야간의 전망이 최고이고 바베큐 등의 야외 식사와 아이들의 정서 발달에 좋고 복층에는 책방 등의 공간으로 꾸미기 좋다.\\n 정남향이며, 층간 소음은 최상층이기 때문에 전혀 있을 수가 없다.',\n",
       "  'regDate': '2019.04.04',\n",
       "  'regTime': '2019-04-04T02:30:18.000Z'},\n",
       " {'id': 332694,\n",
       "  'age': '60대 이상',\n",
       "  'sex': '여자',\n",
       "  'married': '기혼',\n",
       "  'residenceTime': '2017년까지 거주',\n",
       "  'residenceType': '자가 거주',\n",
       "  'score': 5,\n",
       "  'desc': '트리풀초역세권이라 가격대가 계속올라갈것이라 기대되고 공기좋고 조용하다',\n",
       "  'trafficScore': 5,\n",
       "  'trafficDesc': '지하철가깝고 버스타기도 용이하다\\n공항리무진과 철도도 가깝다',\n",
       "  'aroundScore': 5,\n",
       "  'aroundDesc': '가까운마트와 홈플러스,농수산물시장이 가깝고 매봉산 등산로도좋다 mbc쪽으로 가면 식당과 볼거리도많다',\n",
       "  'careScore': 5,\n",
       "  'careDesc': '화단을 예쁘게 잘 가꾸고 늘 깨끗하게 관리가 잘 돼 있다 진입로에 약간의 오르막이 있으나 별로 힘들지는않다',\n",
       "  'residentScore': 4,\n",
       "  'residentDesc': '열병합이라 관리비가 적게나오고 햇볓이 잘들고 산이 옆으로 보여 공기도좋고 뷰도 좋은편이다',\n",
       "  'regDate': '2018.09.11',\n",
       "  'regTime': '2018-09-11T02:30:19.000Z'},\n",
       " {'id': 289303,\n",
       "  'age': '20대',\n",
       "  'sex': '여자',\n",
       "  'married': '미혼',\n",
       "  'residenceTime': '2018년에 거주',\n",
       "  'residenceType': '전세 또는 월세',\n",
       "  'score': 1,\n",
       "  'desc': '별로 추천하고 싶진 않다. 교통도 별로인 것 같고 층간소음이나 습기차는거 너무 짜증난다. 별1개도 아깝지만 1개준이유는 뒷쪽에 농산물시장이 있어서 줬다.',\n",
       "  'trafficScore': 2,\n",
       "  'trafficDesc': '주변에 지하철도 없고 시내인 부평으로 가는 버스는 엄칭 뺑뺑 돌아서 가고 버스 배차 간격도 너무 길다. 한가지 장점은 차고지와 가깝다는점?',\n",
       "  'aroundScore': 2,\n",
       "  'aroundDesc': '뒷쪽에 농산물시장이 있어 싸게 농산물을 살 수 있고 바로옆에 교통공원이 있어 산책하기 좋다. 하지만 고속도로와 가까워 시끄러울 수 있다.',\n",
       "  'careScore': 2,\n",
       "  'careDesc': '현관에 비밀번호 형식이 아니라 아무나 막 들어올 수 있다. 택배도 보관함이 없어서 분실 위험이 있다.',\n",
       "  'residentScore': 2,\n",
       "  'residentDesc': '거실엔 햇빛이 잘 들어온다. 습기가 너무 많이 차서 곰팡이가 잘 생긴다. 층간 소음이 조금 있어 윗집쿵쿵소리에 스트레스를 받는다.',\n",
       "  'regDate': '2018.02.09',\n",
       "  'regTime': '2018-02-09T07:31:32.000Z'},\n",
       " {'id': 295806,\n",
       "  'age': '50대',\n",
       "  'sex': '여자',\n",
       "  'married': '기혼',\n",
       "  'residenceTime': '2018년에 거주',\n",
       "  'residenceType': '자가 거주',\n",
       "  'score': 4,\n",
       "  'desc': '큰건물들이 많아 도로가 깔끔하고 공원 교통 쇼핑 학군 만족스럽다',\n",
       "  'trafficScore': 5,\n",
       "  'trafficDesc': '버스도 집 앞에 있고 시내 나가는것도 가깝고 특히 지하철을 도보로 이용할수 있어서 좋다',\n",
       "  'aroundScore': 5,\n",
       "  'aroundDesc': '하늘공원 난지천공원 노을공원 등이집에가깝고 마트도 걸어갈수 있어쇼핑에 좋다',\n",
       "  'careScore': 5,\n",
       "  'careDesc': '아파트에 단지에 매봉산이 있어서 다른 곳보다 공기도좋다 아침에 산책시에 풀냄새 좋다',\n",
       "  'residentScore': 5,\n",
       "  'residentDesc': '전망도 좋고 따듯하고 여름에는 맞바람 불어서 에어콘을 안쓰게 된다',\n",
       "  'regDate': '2018.01.26',\n",
       "  'regTime': '2018-01-26T02:42:54.000Z'},\n",
       " {'id': 232216,\n",
       "  'age': '30대',\n",
       "  'sex': '여자',\n",
       "  'married': '기혼',\n",
       "  'residenceTime': '2017년에 거주',\n",
       "  'residenceType': '자가 거주',\n",
       "  'score': 4,\n",
       "  'desc': '지하주차장 주차공간이 다소 부족한 느낌이 있는 것과 아파트 정문이 골목(살짝 언덕)에 위치한것, 주변에 학원이 많지 않고 쇼핑몰 등이 상당히 부족하다.도로변에 위치해 있어 차량 소음이 조금은 있지만 대체적으로 조용하고 교통편의는 굉장히 우수하고 대형마트와 공원 역시 도보로 다닐 수 있는 거리에 있다.',\n",
       "  'trafficScore': 5,\n",
       "  'trafficDesc': 'DMC역(공항철도O)까지 어린 아이 손잡고 10분도 안걸리고 성인 걸음으론 5분이면 접근 가능하다.버스정류장도 바로 단지 앞에 위치해 있고 자유로,제2자유로,강변북로,내부순환로까지 모두 자가용을 이용해 5분,막힐땐 10분내로 대중교통이나 자가용이용시 전혀 불편함이 없다.',\n",
       "  'aroundScore': 4,\n",
       "  'aroundDesc': '자유로와 제2자유로,강변북로등 외부로 나갈 수 있는 길의 접근성이 좋고 대형마트와 작은 마트,편의점이 인접해 있으며 지하철역과도 가깝다.단지 뒤로 산책로와 등산로가 있고 가까이에 공원도 있어 철따라 산새소리와 꽃내음이 가득하며 아이들이 놀 수 있는 놀이터가 아파트내에 2곳,아파트 바로 위에 1곳이 있다.단 초등학교 이후 다닐만한 학원가나 쇼핑시설이 많이 부족하다.',\n",
       "  'careScore': 4,\n",
       "  'careDesc': '아파트 입구에 차단기가 설치되어 있지만 외부인들도 차를 대놓고 나가는 경우가 많다.',\n",
       "  'residentScore': 3,\n",
       "  'residentDesc': '올 확장인 경우 베란다만 빼고 주방까지도 확장이 되어 있어 재활용쓰레기등 둘곳이 마땅치 않고 주방이 너무 넓게 나와 비효율적이다.',\n",
       "  'regDate': '2017.08.11',\n",
       "  'regTime': '2017-08-11T08:37:22.000Z'},\n",
       " {'id': 233354,\n",
       "  'age': '20대',\n",
       "  'sex': '여자',\n",
       "  'married': '미혼',\n",
       "  'residenceTime': '2017년에 거주',\n",
       "  'residenceType': '자가 거주',\n",
       "  'score': 5,\n",
       "  'desc': '서울에서 트리플 역세권의 교통 편리함을 누리며 자연환경도 갖추고 있는 단지는\\n 상암 휴먼시아1단지가 제일이라고 생각듭니다. ^-^',\n",
       "  'trafficScore': 5,\n",
       "  'trafficDesc': 'DMC역이 바로 앞에 있고, 홍대입구역 가는 버스가 수시로 단지 앞 정류장에 옵니다 ^-^',\n",
       "  'aroundScore': 5,\n",
       "  'aroundDesc': '대형마트로는 서울에서 제일 큰 월드컵경기장 홈플러스가 있구요,\\n 단지에서 매봉산 공원으로 바로 연결됩니다.\\n 그 외에도 하늘공원, 노을공원이 걸어갈 수 있는 거리에 위치합니다.\\n 길다란 산책로와 자전거도로를 이루어진 한강으로 이어지는 불광천도 빼놓을 수 없구요.',\n",
       "  'careScore': 5,\n",
       "  'careDesc': '단지가 굉장히 깨끗하고 출입통제도 원활하게 이루어집니다.\\n 특히 등록되어있진 않은 차량의 경우 가차없이 스티커가 붙더라구요.\\n 마음 놓입니다.',\n",
       "  'residentScore': 5,\n",
       "  'residentDesc': '단지 중 한동 빼고 모두 남동향으로 일조량이 매우 좋습니다.\\n 층간소음도 지금까지 느껴본 적 없구요.',\n",
       "  'regDate': '2017.08.11',\n",
       "  'regTime': '2017-08-11T08:37:22.000Z'},\n",
       " {'id': 233494,\n",
       "  'age': '40대',\n",
       "  'sex': '여자',\n",
       "  'married': '기혼',\n",
       "  'residenceTime': '2017년에 거주',\n",
       "  'residenceType': '전세 또는 월세',\n",
       "  'score': 4,\n",
       "  'desc': '깔끔하고 역이 가깝다. 조용한 편이다. 상암동에서 가장 최근에 지어진 아파트이다. 매매가가 상당하다는 흠이 있다',\n",
       "  'trafficScore': 4,\n",
       "  'trafficDesc': '버스 노선도 많고 dmc역도 가깝다. 다만 역까지 십 분 정도 걸어야 하고 역까지 가는 버스가 없다. 주로 버스 이용이 용이하다.',\n",
       "  'aroundScore': 4,\n",
       "  'aroundDesc': '마트와 공원은 가까운 편이느 세탁소가 없다. 식당가나 마을의 중심지까지 제법 가야 한다. 상암동 내 끝에 있는 단지이기 때문이다.',\n",
       "  'careScore': 4,\n",
       "  'careDesc': '청결하고 관리사무소 운영이 잘 된다. 다만 공용현관이 열려 있을 때가 많고 세대마다 현관 앞에 적재물을 두어서 미관을 망친다.',\n",
       "  'residentScore': 4,\n",
       "  'residentDesc': '저층이라 그런지 남향임에도 해가 길게 들어오지 않고 바람도 불지 않아 덥다. 방 하나에는 방충망이 없어서 여름에 곤란하다.',\n",
       "  'regDate': '2017.08.11',\n",
       "  'regTime': '2017-08-11T08:37:22.000Z'},\n",
       " {'id': 14192,\n",
       "  'age': '20대',\n",
       "  'sex': '여자',\n",
       "  'married': '미혼',\n",
       "  'residenceTime': '2017년에 거주',\n",
       "  'residenceType': '자가 거주',\n",
       "  'score': 5,\n",
       "  'desc': '장점:교통이 좋고 운동할 수 있는 남지공원이나 불광천부터 한강까지 이어져있는 산책로도 있고 뒤에 산이 있어서 좋음 \\n단점:아파트 바로 앞에 카페나 올리브영 같은 곳이 없고 방송국 있면 곳까지 나가야 하는 불편함이 있음',\n",
       "  'trafficScore': 5,\n",
       "  'trafficDesc': '지하철까지 5분장도 거리이고 홍대나 신촌으로 나가는 버스가 많아서 편리하다 그리고 강남까지 한 반에 갈 수 있는 9711버스가 있어서 좋지만 일산으로 나갈 때는 버스가 9711 비싼 버스 밖에 없어서 많이 아쉽다',\n",
       "  'aroundScore': 4,\n",
       "  'aroundDesc': '홈플러스가 10-15 정도 걸어서 갈 수 있는 거리에 있고 집 앞에 세계로 마트나 농협마트가 있어서 장보기에 편하다 공원도 여러 개 있어서 공기도 좋고 산책하기 좋다',\n",
       "  'careScore': 4,\n",
       "  'careDesc': '경비아저씨가 단지 앞에 항상 계셔서 안심할 수 있고 집에 들어갈 때 번호를 누르는 게 있어서 잡상인이나 이상한 사람이 들어오는 것을 막아주는 것 같아서 좋다',\n",
       "  'residentScore': 5,\n",
       "  'residentDesc': '베란다를 열면 바로 뒤에 산이 있어서 황사나 미세먼지가 없는 날에는 자주 열지 않는다.',\n",
       "  'regDate': '2017.05.19',\n",
       "  'regTime': '2017-05-19T05:46:30.000Z'},\n",
       " {'id': 87343,\n",
       "  'age': '40대',\n",
       "  'sex': '여자',\n",
       "  'married': '기혼',\n",
       "  'residenceTime': '2017년에 거주',\n",
       "  'residenceType': '전세 또는 월세',\n",
       "  'score': 2,\n",
       "  'desc': '역세권으로 지하철 이용이 편리하고 근처에 유해업소가 없어 아이들 키우기 좋습니다',\n",
       "  'trafficScore': 4,\n",
       "  'trafficDesc': '버스정류장이 단지에서 1 분거리에 있고 지하철역 또한 도보 5분 거리 안에 있어 편리합니다',\n",
       "  'aroundScore': 4,\n",
       "  'aroundDesc': '대형마트인 홈플러스가 도보 10분 거리에 있고 농협 상암점 또한 도보거리에 위치해서 생활 편하다',\n",
       "  'careScore': 3,\n",
       "  'careDesc': '단지가 항상 깨끗이 관리되고 있고 주차공간 또한 넉넉한 편이나 단지 안에 차가 타녀 어린아이를 키우기는 좀 불편하다',\n",
       "  'residentScore': 4,\n",
       "  'residentDesc': '일조량은 좋으나 층간소음은 좀 앗는 편이다. 윗집이 조용한 집이라면 또 다른 얘기겠지만 우리 위층은 좀 시끄럽다',\n",
       "  'regDate': '2017.05.11',\n",
       "  'regTime': '2017-05-11T00:39:19.000Z'},\n",
       " {'id': 59186,\n",
       "  'age': '30대',\n",
       "  'sex': '남자',\n",
       "  'married': '기혼',\n",
       "  'residenceTime': '2014년까지 거주',\n",
       "  'residenceType': '전세 또는 월세',\n",
       "  'score': 3,\n",
       "  'desc': '홈플러스가 가까이 있고. 월드컵경기장 및 공원도 가깝고 잘되어 있으며 한강공원이랑도 가깝다. 다른 지역으로 가기도 수월하여 위치상으로 좋은 위치여서 4점을 준다.',\n",
       "  'trafficScore': 5,\n",
       "  'trafficDesc': '디지털 미디어시티역 공항철도역과 가깝고 바로 앞에 버스정류장도 있어 원활하게 어디든 이동 가능합니다.',\n",
       "  'aroundScore': 4,\n",
       "  'aroundDesc': '서울역까지 지하철로 10분이면 가고 홍대까지도 버스 타고 10분이면 가고 주변에 월드컵경기장과 홈플러스 한강변과도 가까워 쇼핑은 물론 여가를 즐기기에도 좋다.',\n",
       "  'careScore': 3,\n",
       "  'careDesc': '관리비가 저렴하고 경비가 잘되어 있다. 출입하는 문이 길가에 있어 위치가 조금 그렇긴 하다. 밤에 어두울 때 조금 무섭다.',\n",
       "  'residentScore': 3,\n",
       "  'residentDesc': '층간소음은 전혀 없었고 주변 소음이나 이런 것들은 양호했다. 주변에 초등학교도 가까워 아이들 학교 보내기에도 좋다.',\n",
       "  'regDate': '2017.05.10',\n",
       "  'regTime': '2017-05-10T08:49:31.000Z'},\n",
       " {'id': 63088,\n",
       "  'age': '30대',\n",
       "  'sex': '남자',\n",
       "  'married': '기혼',\n",
       "  'residenceTime': '2017년에 거주',\n",
       "  'residenceType': '자가 거주',\n",
       "  'score': 3,\n",
       "  'desc': '일단 주변 환경과 공원 때문에 추천은 하지만 아파트가 조금 비싼 편에 속하는 단점도 있네요. 방송국 근처라 그런지 시세가 많이 올랐습니다.',\n",
       "  'trafficScore': 3,\n",
       "  'trafficDesc': '일단 대중교통이 많이 발달이 되어 있지만 월드컵 공원 근처이고 방송국도 근처에 있어서 주말에는 차가 너무 많이 막혀서 불편한 점이 있습니다.',\n",
       "  'aroundScore': 4,\n",
       "  'aroundDesc': '월드컵 공원이 있어서 그 점은 아주 좋습니다. 축구하는 시설도 마련되어 있고 그 안에 홈플러스도 입점이 되어 있어서 편합니다.',\n",
       "  'careScore': 3,\n",
       "  'careDesc': '관리비가 저렴한 편은 아닙니다. 다른 아파트 수준에 관리라고 생각하시면 됩니다. 그럭저럭 그래도 관리가 되는 편인 것 같긴 합니다.',\n",
       "  'residentScore': 4,\n",
       "  'residentDesc': '주변에 산이 있어요. 산 쪽으로 창문을 열어 놓으면 공기가 잘 들어와서 좋습니다. 다만 차도 쪽 창문을 열어 놓으면 차가 많이 다녀서 시끄러울 때가 있습니다.',\n",
       "  'regDate': '2017.05.10',\n",
       "  'regTime': '2017-05-10T01:50:48.000Z'},\n",
       " {'id': 64552,\n",
       "  'age': '30대',\n",
       "  'sex': '여자',\n",
       "  'married': '미혼',\n",
       "  'residenceTime': '2013년까지 거주',\n",
       "  'residenceType': '전세 또는 월세',\n",
       "  'score': 4,\n",
       "  'desc': '가까이에 디지털 미디어시티가 있어 \\n문화생활 및 교통도 아주 편하고 초 중 고 모든 학군이 있어 아이 키우기에도 좋다',\n",
       "  'trafficScore': 5,\n",
       "  'trafficDesc': '지하철 6호선과 경의선 공항철도가 도보 5분 안에 이용 가능하며, 서울역 공항 강남권으로 바로 가는 버스노선이 자나 간다',\n",
       "  'aroundScore': 5,\n",
       "  'aroundDesc': '크고 작은 마트와 편의시설 여러 개의 공원들이 근처에 도보 이용 가능함',\n",
       "  'careScore': 4,\n",
       "  'careDesc': '항상 단지는 청결하게 관리되며 주차관리도 잘되며 \\n탁배 분실 위험이 적다',\n",
       "  'residentScore': 4,\n",
       "  'residentDesc': '뒤로는 산이 있어 여름에 시원하고 \\n정남향이라 겨울에는 햇빛이 잘 들어 낮에는 보일러를 안 켜도 춥지 않다',\n",
       "  'regDate': '2017.05.10',\n",
       "  'regTime': '2017-05-10T01:51:24.000Z'},\n",
       " {'id': 166919,\n",
       "  'age': '30대',\n",
       "  'sex': '여자',\n",
       "  'married': '기혼',\n",
       "  'residenceTime': '2016년까지 거주',\n",
       "  'residenceType': '자가 거주',\n",
       "  'score': 5,\n",
       "  'desc': '지리적 위치와 주변의 편의시설, 녹지공원 조성, 편리한 교통 등 주거환경이 여느 하나 부족함이 없습니다. 누리꿈 스퀘어 방송가가 들어오기 전에 비해 교통량이 다소 증가하고 유동인구 증가로 대중교통 이용이 조금 불편을 느끼지만 크게 신경 쓰일만한 수준은 아닙니다. 다만 아파트 단지가 큰 \\n편은 아니며 단지 내 편의시설 및 이용 공간은 많지는 않습니다.',\n",
       "  'trafficScore': 5,\n",
       "  'trafficDesc': '월드컵 경기장역, DMC역 도보 7분 거리, 남자 걸음으로 5분이고 바로 앞에 버스정류장이 있으며 홍대, 합정, 신촌, 서울역으로 가는 초록색 파란색 버스와 강남, 신사 일대로 빠지는 광역버스가 모두 다닙니다',\n",
       "  'aroundScore': 5,\n",
       "  'aroundDesc': '아래쪽으로는 월드컵 경기장역의 홈플러스, CGV가 도보 10분 거리에 위치하고 위쪽으로는 누리꿈 스퀘어 MBC KBS 등 방송가 위치, 맛집들이 많아요. \\n주변에 하늘공원 평화의 공원 난지캠핑장 등 대형 공원 조성이 잘 되어있고 바로 앞에 천 따라 20분 조깅하면 한강이 \\n나옵니다',\n",
       "  'careScore': 5,\n",
       "  'careDesc': '도로변에 공용현관(암호 복잡) 이 있고 단지 내 출입이 용이합니다.',\n",
       "  'residentScore': 4,\n",
       "  'residentDesc': '단지 내 건물 밀집도가 높지 않아 쾌적한 편입니다. 다만 아파트 단지가 크지 않고 요즘 유행하는 차가 지나다니지 \\n않는 지상 단지가 조성되어 있지는 않습니다. 아이들이 \\n뛰어놀 만한 공간은 여의치 않습니다.',\n",
       "  'regDate': '2017.04.24',\n",
       "  'regTime': '2017-04-24T07:18:36.000Z'},\n",
       " {'id': 115219,\n",
       "  'age': '20대',\n",
       "  'sex': '남자',\n",
       "  'married': '미혼',\n",
       "  'residenceTime': '2017년에 거주',\n",
       "  'residenceType': '자가 거주',\n",
       "  'score': 5,\n",
       "  'desc': '아직 동네 자체가 개발이 완료된 상태가 아니라 개발의 여지가 남아있고, 교통이 편리하고 주변 편의시설이 많아 즐길거리도 많다.',\n",
       "  'trafficScore': 5,\n",
       "  'trafficDesc': '지하철이 3개 호선이 지나가서 골라 탈 수 있고, 버스도 다양하여 빨리 오는 거 위주로 아무거나 타도 별 상관이 없다.',\n",
       "  'aroundScore': 4,\n",
       "  'aroundDesc': '주변에 산이 있어 좋고, 편의시설도 많다. 다만 쇼핑몰이 현재 없어 아쉽다.',\n",
       "  'careScore': 5,\n",
       "  'careDesc': '출차 입차 시 자동으로 번호판을 인식하는 시스템이 있어 편리하고, 관리비도 나름 저렴한 편이다.',\n",
       "  'residentScore': 5,\n",
       "  'residentDesc': '햇빛도 잘 들어오고, 주변에 산이 있어 경관도 좋은 편이다. 층간 소음도 없는 편이라 특별히 불편함을 느낀 적은 없다.',\n",
       "  'regDate': '2017.04.21',\n",
       "  'regTime': '2017-04-21T08:55:41.000Z'}]"
      ]
     },
     "execution_count": 17,
     "metadata": {},
     "output_type": "execute_result"
    }
   ],
   "source": [
    "data['data']"
   ]
  },
  {
   "cell_type": "code",
   "execution_count": 18,
   "metadata": {},
   "outputs": [],
   "source": [
    "def getHigherGeohash(strgh):        # string 형태의 geohash 입력시 상위 레벨의 geohash 32개를 리스트로 전달\n",
    "    returnList=[]\n",
    "    for i in range(10):\n",
    "        returnList.append(strgh+str(i))\n",
    "    startIdx = ord('b')\n",
    "    endIdx = ord('z')\n",
    "    for i in range(startIdx, endIdx + 1):\n",
    "        if (chr(i) != 'i' and chr(i) != 'l' and chr(i) != 'o'):\n",
    "            returnList.append(strgh + chr(i))\n",
    " \n",
    "    return returnList"
   ]
  },
  {
   "cell_type": "code",
   "execution_count": 19,
   "metadata": {},
   "outputs": [],
   "source": [
    "import requests\n",
    "import json\n",
    " \n",
    "def getDanjiId(geohash):\n",
    "    url = \"https://apis.zigbang.com/v2/aparts/items?domain=zigbang&geohash={}\".format(geohash)\n",
    "    req = requests.get(url)\n",
    "    items = req.json()\n",
    "    print(items)"
   ]
  },
  {
   "cell_type": "code",
   "execution_count": 20,
   "metadata": {},
   "outputs": [
    {
     "name": "stdout",
     "output_type": "stream",
     "text": [
      "{'isExistAgent': False, 'vrItems': [{'areaDanjiId': 18737, 'lat': 37.6466419, 'lng': 126.929735, 'itemIds': ['C407']}], 'recommendItems': [], 'items': [], 'prices': [], 'sections': [{'sectionType': 'premium_vr', 'section_title_color': '#ffffff', 'section_title': 'VR홈투어™', 'section_item_count': 0, 'section_icon': 'http://s.zigbang.com/v2/ic_vr_hometour.png', 'section_bg_color': '#3F93BE', 'event_button_icon': 'http://s.zigbang.com/v2/ic_question20dp.png'}, {'sectionType': 'premium_recommend', 'section_title_color': '#ffffff', 'section_title': '안심중개사 추천 매물', 'section_item_count': 0, 'section_icon': 'http://s.zigbang.com/v2/ic_ansim.png', 'section_bg_color': '#0ec4bf', 'event_button_icon': 'http://s.zigbang.com/v2/ic_question20dp.png'}, {'sectionType': 'premium_normal', 'section_title_color': '#ffffff', 'section_title': '안심중개사 일반 매물', 'section_item_count': 0, 'section_icon': 'http://s.zigbang.com/v2/ic_ansim.png', 'section_bg_color': '#00ad69', 'event_button_icon': 'http://s.zigbang.com/v2/ic_question20dp.png'}, {'sectionType': 'normal', 'section_title_color': '#ffffff', 'section_title': '시세정보', 'section_item_count': 0, 'section_icon': '', 'section_bg_color': '#757575', 'event_button_icon': 'http://s.zigbang.com/v2/ic_question20dp.png'}]}\n"
     ]
    }
   ],
   "source": [
    "geohash = ['wydq0']\n",
    "for i in geohash:  \n",
    "    getDanjiId(i)"
   ]
  },
  {
   "cell_type": "code",
   "execution_count": 21,
   "metadata": {},
   "outputs": [],
   "source": [
    "def getDanjiList(geohash):\n",
    "    url = \"https://apis.zigbang.com/v2/aparts/items?domain=zigbang&geohash={}\".format(geohash)\n",
    "    req = requests.get(url)\n",
    "    items = req.json()\n",
    " \n",
    "    danjiList=[]\n",
    "    if items[\"vrItems\"] !=[]:       ## vrItems 대상이 있으면 진행\n",
    "        for i in items[\"vrItems\"]:\n",
    "            danjiList.append(i[\"areaDanjiId\"])\n",
    "    if items[\"recommendItems\"] !=[]:       ## recommend 대상이 있으면 진행\n",
    "        for i in items[\"recommendItems\"]:\n",
    "            danjiList.append(i[\"areaDanjiId\"])\n",
    "    if items[\"items\"] !=[]:       ## Items 대상이 있으면 진행\n",
    "        for i in items[\"items\"]:\n",
    "            danjiList.append(i[\"areaDanjiId\"])\n",
    " \n",
    "    danjiList = list(set(danjiList))\n",
    " \n",
    " \n",
    "    return danjiList"
   ]
  },
  {
   "cell_type": "code",
   "execution_count": 22,
   "metadata": {},
   "outputs": [
    {
     "name": "stdout",
     "output_type": "stream",
     "text": [
      "[18737]\n"
     ]
    }
   ],
   "source": [
    "geohash = ['wydq0']\n",
    "for i in geohash:\n",
    "    print(getDanjiList(i))"
   ]
  },
  {
   "cell_type": "code",
   "execution_count": 23,
   "metadata": {},
   "outputs": [
    {
     "name": "stdout",
     "output_type": "stream",
     "text": [
      "['wyd00', 'wyd01', 'wyd02', 'wyd03', 'wyd04'] 4096\n"
     ]
    }
   ],
   "source": [
    "def getHigherGeohash(strgh):        # string 형태의 geohash 입력시 상위 레벨의 geohash 32개를 리스트로 전달\n",
    "    returnList=[]\n",
    "    for i in range(10):\n",
    "        returnList.append(strgh+str(i))\n",
    "    startIdx = ord('b')\n",
    "    endIdx = ord('z')\n",
    "    for i in range(startIdx, endIdx + 1):\n",
    "        if (chr(i) != 'i' and chr(i) != 'l' and chr(i) != 'o'):\n",
    "            returnList.append(strgh + chr(i))\n",
    " \n",
    "    return returnList\n",
    "\n",
    "geohash = ['wyd','wye','wy6','wy7']\n",
    "tmp = []\n",
    "for i in geohash:\n",
    "    tmp4Lv=getHigherGeohash(i)\n",
    "    for j in tmp4Lv:\n",
    "        tmp5Lv=getHigherGeohash(j)\n",
    "        tmp.append(tmp5Lv)\n",
    "\n",
    "totalGeohash = []\n",
    "for i in tmp:\n",
    "    totalGeohash+=i\n",
    "print(totalGeohash[:5], len(totalGeohash))"
   ]
  },
  {
   "cell_type": "code",
   "execution_count": 24,
   "metadata": {},
   "outputs": [
    {
     "name": "stdout",
     "output_type": "stream",
     "text": [
      "[37488, 33264, 17708, 5479, 38499, 485, 18445, 2712, 34585, 19323] 105\n"
     ]
    }
   ],
   "source": [
    "def getHigherGeohash(strgh):        # string 형태의 geohash 입력시 상위 레벨의 geohash 32개를 리스트로 전달\n",
    "    returnList=[]\n",
    "    for i in range(10):\n",
    "        returnList.append(strgh+str(i))\n",
    "    startIdx = ord('b')\n",
    "    endIdx = ord('z')\n",
    "    for i in range(startIdx, endIdx + 1):\n",
    "        if (chr(i) != 'i' and chr(i) != 'l' and chr(i) != 'o'):\n",
    "            returnList.append(strgh + chr(i))\n",
    " \n",
    "    return returnList\n",
    " \n",
    " \n",
    "def getDanjiList(geohash):\n",
    "    url = \"https://apis.zigbang.com/v2/aparts/items?domain=zigbang&geohash={}\".format(geohash)\n",
    "    req = requests.get(url)\n",
    "    items = req.json()\n",
    " \n",
    "    danjiList=[]\n",
    "    if items[\"vrItems\"] !=[]:       ## vrItems 대상이 있으면 진행\n",
    "        for i in items[\"vrItems\"]:\n",
    "            danjiList.append(i[\"areaDanjiId\"])\n",
    "    if items[\"recommendItems\"] !=[]:       ## recommend 대상이 있으면 진행\n",
    "        for i in items[\"recommendItems\"]:\n",
    "            danjiList.append(i[\"areaDanjiId\"])\n",
    "    if items[\"items\"] !=[]:       ## Items 대상이 있으면 진행\n",
    "        for i in items[\"items\"]:\n",
    "            danjiList.append(i[\"areaDanjiId\"])\n",
    " \n",
    "    danjiList = list(set(danjiList))\n",
    " \n",
    " \n",
    "    return danjiList\n",
    " \n",
    " \n",
    "\n",
    " \n",
    "geohash = ['wyd','wye','wy6','wy7']     # 5레벨 geohash 얻기\n",
    "tmp = []\n",
    "for i in geohash:\n",
    "    tmp4Lv=getHigherGeohash(i)\n",
    "    for j in tmp4Lv:\n",
    "        tmp5Lv=getHigherGeohash(j)\n",
    "        tmp.append(tmp5Lv)\n",
    "totalGeohash = []\n",
    "\n",
    "for i in tmp:\n",
    "    totalGeohash+=i\n",
    " \n",
    "totalDanjiList=[]\n",
    "\n",
    "for i in totalGeohash:\n",
    "    DanjiListPerGeohash = getDanjiList(i)\n",
    "    totalDanjiList+=DanjiListPerGeohash\n",
    "print(totalDanjiList[:10], len(totalDanjiList))"
   ]
  },
  {
   "cell_type": "code",
   "execution_count": 25,
   "metadata": {},
   "outputs": [
    {
     "name": "stdout",
     "output_type": "stream",
     "text": [
      "{'id': 18433, 'name': '상림마을은평뉴타운3단지아이파크', 'average_rent_price': 1143, 'average_sales_price': 2357, 'minSalesPrice': 73000, 'maxSalesPrice': 123000, 'room_types': [{'id': 15256, '총세대수': 8, '공급면적': {'m2': 80.97, 'p': 24.49}, '계약면적': None, '전용면적': {'m2': 59.81, 'p': 18.09}, 'room_type_title': {'m2': '80NCD', 'p': '24NCD'}, '방': 3, '욕실': 2, '현관구조': '계단식', 'floor_plan': 'https://ic.zigbang.com/ic/floorplan/18433/15256/f3381b74d686491f882ae9c67ef29052.png', '분양가': None, '분양가PyeongPrice': None, 'has호분양가': False, 'manage_cost': {'관리비': 17, '여름관리비': 14, '겨울관리비': 27, '개별난방': True}, '거래가능시점': None, 'rent_price': {'min': 18500, 'max': 18500, 'avg': None, 'per_area': 755, 'change': None}, 'sales_price': {'min': 73000, 'max': 73000, 'avg': None, 'per_area': 2980, 'change': None}, '공시가': {'has공시가격': False, '공시가격': None}, '유형구분': '아파트', 'special_type_message': None}, {'id': 15257, '총세대수': 1, '공급면적': {'m2': 81.61, 'p': 24.68}, '계약면적': None, '전용면적': {'m2': 59.99, 'p': 18.14}, 'room_type_title': {'m2': '81NCE', 'p': '25NCE'}, '방': 3, '욕실': 1, '현관구조': '계단식', 'floor_plan': 'https://s.zigbang.com/v2/web/danji/area_empty.jpg', '분양가': None, '분양가PyeongPrice': None, 'has호분양가': False, 'manage_cost': {'관리비': 18, '여름관리비': 14, '겨울관리비': 27, '개별난방': True}, '거래가능시점': None, 'rent_price': {'min': 20000, 'max': 20000, 'avg': None, 'per_area': 810, 'change': None}, 'sales_price': {'min': 78000, 'max': 78000, 'avg': None, 'per_area': 3160, 'change': None}, '공시가': {'has공시가격': False, '공시가격': None}, '유형구분': '아파트', 'special_type_message': None}, {'id': 15239, '총세대수': 49, '공급면적': {'m2': 112.81, 'p': 34.12}, '계약면적': None, '전용면적': {'m2': 84.79, 'p': 25.64}, 'room_type_title': {'m2': '112A', 'p': '34A'}, '방': 3, '욕실': 2, '현관구조': '계단식', 'floor_plan': 'https://ic.zigbang.com/ic/floorplan/18433/15239/d4aba1fd34fdebc751fbb91217fe8229530d8861.jpg', '분양가': None, '분양가PyeongPrice': None, 'has호분양가': False, 'manage_cost': {'관리비': 25, '여름관리비': 20, '겨울관리비': 38, '개별난방': True}, '거래가능시점': None, 'rent_price': {'min': 46000, 'max': 46000, 'avg': None, 'per_area': 1348, 'change': None}, 'sales_price': {'min': 90000, 'max': 90000, 'avg': None, 'per_area': 2637, 'change': None}, '공시가': {'has공시가격': False, '공시가격': None}, '유형구분': '아파트', 'special_type_message': None}, {'id': 15240, '총세대수': 5, '공급면적': {'m2': 113.71, 'p': 34.39}, '계약면적': None, '전용면적': {'m2': 84.93, 'p': 25.69}, 'room_type_title': {'m2': '113NCK', 'p': '34NCK'}, '방': 3, '욕실': 2, '현관구조': '계단식', 'floor_plan': 'https://ic.zigbang.com/ic/floorplan/18433/15240/3c5eb4bf27d4450d8c171adabd7cbdfc.png', '분양가': None, '분양가PyeongPrice': None, 'has호분양가': False, 'manage_cost': {'관리비': 25, '여름관리비': 20, '겨울관리비': 38, '개별난방': True}, '거래가능시점': None, 'rent_price': {'min': 45000, 'max': 45000, 'avg': None, 'per_area': 1308, 'change': None}, 'sales_price': {'min': 88000, 'max': 88000, 'avg': None, 'per_area': 2558, 'change': None}, '공시가': {'has공시가격': False, '공시가격': None}, '유형구분': '아파트', 'special_type_message': None}, {'id': 15241, '총세대수': 5, '공급면적': {'m2': 114.7, 'p': 34.69}, '계약면적': None, '전용면적': {'m2': 84.42, 'p': 25.53}, 'room_type_title': {'m2': '114B', 'p': '34B'}, '방': 3, '욕실': 2, '현관구조': '계단식', 'floor_plan': 'https://ic.zigbang.com/ic/floorplan/18433/15241/9fd0d95839a0b17efa8721035a65b47ffd2eed24.jpg', '분양가': None, '분양가PyeongPrice': None, 'has호분양가': False, 'manage_cost': {'관리비': 25, '여름관리비': 20, '겨울관리비': 37, '개별난방': True}, '거래가능시점': None, 'rent_price': {'min': 45000, 'max': 45000, 'avg': None, 'per_area': 1297, 'change': None}, 'sales_price': {'min': 89000, 'max': 89000, 'avg': None, 'per_area': 2565, 'change': None}, '공시가': {'has공시가격': False, '공시가격': None}, '유형구분': '아파트', 'special_type_message': None}, {'id': 15242, '총세대수': 11, '공급면적': {'m2': 114.26, 'p': 34.56}, '계약면적': None, '전용면적': {'m2': 84.93, 'p': 25.69}, 'room_type_title': {'m2': '114NCD', 'p': '34NCD'}, '방': 3, '욕실': 2, '현관구조': '계단식', 'floor_plan': 'https://ic.zigbang.com/ic/floorplan/18433/15242/25474753ae39eb2777dc6f1cac28c670217c44d6.jpg', '분양가': None, '분양가PyeongPrice': None, 'has호분양가': False, 'manage_cost': {'관리비': 25, '여름관리비': 20, '겨울관리비': 38, '개별난방': True}, '거래가능시점': None, 'rent_price': {'min': 43000, 'max': 43000, 'avg': None, 'per_area': 1244, 'change': None}, 'sales_price': {'min': 85000, 'max': 85000, 'avg': None, 'per_area': 2459, 'change': None}, '공시가': {'has공시가격': False, '공시가격': None}, '유형구분': '아파트', 'special_type_message': None}, {'id': 15243, '총세대수': 21, '공급면적': {'m2': 115.19, 'p': 34.84}, '계약면적': None, '전용면적': {'m2': 84.83, 'p': 25.66}, 'room_type_title': {'m2': '115C', 'p': '35C'}, '방': 3, '욕실': 2, '현관구조': '계단식', 'floor_plan': 'https://ic.zigbang.com/ic/floorplan/18433/15243/5e995c3d51600858c529f42207b9cdea607c993b.jpg', '분양가': None, '분양가PyeongPrice': None, 'has호분양가': False, 'manage_cost': {'관리비': 25, '여름관리비': 20, '겨울관리비': 38, '개별난방': True}, '거래가능시점': None, 'rent_price': {'min': 46000, 'max': 46000, 'avg': None, 'per_area': 1320, 'change': None}, 'sales_price': {'min': 90000, 'max': 90000, 'avg': None, 'per_area': 2583, 'change': None}, '공시가': {'has공시가격': False, '공시가격': None}, '유형구분': '아파트', 'special_type_message': None}, {'id': 15244, '총세대수': 25, '공급면적': {'m2': 115.13, 'p': 34.82}, '계약면적': None, '전용면적': {'m2': 84.97, 'p': 25.7}, 'room_type_title': {'m2': '115E', 'p': '35E'}, '방': 3, '욕실': 2, '현관구조': '계단식', 'floor_plan': 'https://ic.zigbang.com/ic/floorplan/18433/15244/53d666eb33a646c2a3ea277f173d0743.png', '분양가': None, '분양가PyeongPrice': None, 'has호분양가': False, 'manage_cost': {'관리비': 25, '여름관리비': 20, '겨울관리비': 38, '개별난방': True}, '거래가능시점': None, 'rent_price': {'min': 45000, 'max': 45000, 'avg': None, 'per_area': 1292, 'change': None}, 'sales_price': {'min': 87000, 'max': 87000, 'avg': None, 'per_area': 2498, 'change': None}, '공시가': {'has공시가격': False, '공시가격': None}, '유형구분': '아파트', 'special_type_message': None}, {'id': 15245, '총세대수': 6, '공급면적': {'m2': 115.21, 'p': 34.85}, '계약면적': None, '전용면적': {'m2': 84.86, 'p': 25.67}, 'room_type_title': {'m2': '115F', 'p': '35F'}, '방': 3, '욕실': 2, '현관구조': '계단식', 'floor_plan': 'https://ic.zigbang.com/ic/floorplan/18433/15245/9480935bddddbb0dd284e135aab676b90e6db21c.jpg', '분양가': None, '분양가PyeongPrice': None, 'has호분양가': False, 'manage_cost': {'관리비': 25, '여름관리비': 20, '겨울관리비': 38, '개별난방': True}, '거래가능시점': None, 'rent_price': {'min': 47000, 'max': 47000, 'avg': None, 'per_area': 1349, 'change': None}, 'sales_price': {'min': 91000, 'max': 91000, 'avg': None, 'per_area': 2611, 'change': None}, '공시가': {'has공시가격': False, '공시가격': None}, '유형구분': '아파트', 'special_type_message': None}, {'id': 245874, '총세대수': 1, '공급면적': {'m2': 140.87, 'p': 42.61}, '계약면적': None, '전용면적': {'m2': 101.99, 'p': 30.85}, 'room_type_title': {'m2': '140C', 'p': '42C'}, '방': 4, '욕실': 2, '현관구조': '계단식', 'floor_plan': 'https://ic.zigbang.com/ic/floorplan/18433/245874/e0454c3c6f3bcf5d0fab0d7f1c9e7397b0a4b205.jpg', '분양가': None, '분양가PyeongPrice': None, 'has호분양가': False, 'manage_cost': {'관리비': 30, '여름관리비': 24, '겨울관리비': 45, '개별난방': True}, '거래가능시점': None, 'rent_price': {'min': 58000, 'max': 58000, 'avg': None, 'per_area': 1361, 'change': None}, 'sales_price': {'min': 108000, 'max': 108000, 'avg': None, 'per_area': 2534, 'change': None}, '공시가': {'has공시가격': False, '공시가격': None}, '유형구분': '아파트', 'special_type_message': None}, {'id': 245528, '총세대수': 3, '공급면적': {'m2': 140.28, 'p': 42.43}, '계약면적': None, '전용면적': {'m2': 101.46, 'p': 30.69}, 'room_type_title': {'m2': '140C1', 'p': '42C1'}, '방': 3, '욕실': 3, '현관구조': '계단식', 'floor_plan': 'https://ic.zigbang.com/ic/floorplan/18433/245528/7762097af61ff41453eecdae03ac9f2ea5efa03f.jpg', '분양가': None, '분양가PyeongPrice': None, 'has호분양가': False, 'manage_cost': {'관리비': 30, '여름관리비': 24, '겨울관리비': 45, '개별난방': True}, '거래가능시점': None, 'rent_price': {'min': 58000, 'max': 58000, 'avg': None, 'per_area': 1367, 'change': None}, 'sales_price': {'min': 108000, 'max': 108000, 'avg': None, 'per_area': 2545, 'change': None}, '공시가': {'has공시가격': False, '공시가격': None}, '유형구분': '아파트', 'special_type_message': None}, {'id': 15247, '총세대수': 8, '공급면적': {'m2': 141.07, 'p': 42.67}, '계약면적': None, '전용면적': {'m2': 101.93, 'p': 30.83}, 'room_type_title': {'m2': '141A1', 'p': '43A1'}, '방': 3, '욕실': 3, '현관구조': '계단식', 'floor_plan': 'https://ic.zigbang.com/ic/floorplan/18433/15247/14fd66a8647388c93e49cb3471e876410cbddcfb.jpg', '분양가': None, '분양가PyeongPrice': None, 'has호분양가': False, 'manage_cost': {'관리비': 30, '여름관리비': 24, '겨울관리비': 45, '개별난방': True}, '거래가능시점': None, 'rent_price': {'min': 58000, 'max': 58000, 'avg': None, 'per_area': 1359, 'change': None}, 'sales_price': {'min': 108000, 'max': 108000, 'avg': None, 'per_area': 2531, 'change': None}, '공시가': {'has공시가격': False, '공시가격': None}, '유형구분': '아파트', 'special_type_message': None}, {'id': 15248, '총세대수': 2, '공급면적': {'m2': 141.33, 'p': 42.75}, '계약면적': None, '전용면적': {'m2': 101.87, 'p': 30.81}, 'room_type_title': {'m2': '141B1', 'p': '43B1'}, '방': 3, '욕실': 3, '현관구조': '계단식', 'floor_plan': 'https://ic.zigbang.com/ic/floorplan/18433/15248/0dc415c7f6f6a3549172cc02cba9e4a2bc438c51.jpg', '분양가': None, '분양가PyeongPrice': None, 'has호분양가': False, 'manage_cost': {'관리비': 30, '여름관리비': 24, '겨울관리비': 45, '개별난방': True}, '거래가능시점': None, 'rent_price': {'min': 58000, 'max': 58000, 'avg': None, 'per_area': 1357, 'change': None}, 'sales_price': {'min': 108000, 'max': 108000, 'avg': None, 'per_area': 2526, 'change': None}, '공시가': {'has공시가격': False, '공시가격': None}, '유형구분': '아파트', 'special_type_message': None}, {'id': 15249, '총세대수': 1, '공급면적': {'m2': 141, 'p': 42.65}, '계약면적': None, '전용면적': {'m2': 101.89, 'p': 30.82}, 'room_type_title': {'m2': '141NCD1', 'p': '43NCD1'}, '방': 3, '욕실': 2, '현관구조': '계단식', 'floor_plan': 'https://ic.zigbang.com/ic/floorplan/18433/15249/fe2a2757afd026e835a92779b25186cb7aae290a.jpg', '분양가': None, '분양가PyeongPrice': None, 'has호분양가': False, 'manage_cost': {'관리비': 30, '여름관리비': 24, '겨울관리비': 45, '개별난방': True}, '거래가능시점': None, 'rent_price': {'min': 58000, 'max': 58000, 'avg': None, 'per_area': 1360, 'change': None}, 'sales_price': {'min': 108000, 'max': 108000, 'avg': None, 'per_area': 2532, 'change': None}, '공시가': {'has공시가격': False, '공시가격': None}, '유형구분': '아파트', 'special_type_message': None}, {'id': 15250, '총세대수': 1, '공급면적': {'m2': 151.96, 'p': 45.96}, '계약면적': None, '전용면적': {'m2': 101.98, 'p': 30.84}, 'room_type_title': {'m2': '151NCB1', 'p': '46NCB1'}, '방': 3, '욕실': 2, '현관구조': '계단식', 'floor_plan': 'https://ic.zigbang.com/ic/floorplan/18433/15250/b1a06937151b70c2ae17e696f745be1d19559096.jpg', '분양가': None, '분양가PyeongPrice': None, 'has호분양가': False, 'manage_cost': {'관리비': 30, '여름관리비': 24, '겨울관리비': 45, '개별난방': True}, '거래가능시점': None, 'rent_price': {'min': 58000, 'max': 58000, 'avg': None, 'per_area': 1262, 'change': None}, 'sales_price': {'min': 108000, 'max': 108000, 'avg': None, 'per_area': 2349, 'change': None}, '공시가': {'has공시가격': False, '공시가격': None}, '유형구분': '아파트', 'special_type_message': None}, {'id': 15251, '총세대수': 6, '공급면적': {'m2': 178.29, 'p': 53.93}, '계약면적': None, '전용면적': {'m2': 134.91, 'p': 40.81}, 'room_type_title': {'m2': '178NCB', 'p': '54NCB'}, '방': 4, '욕실': 2, '현관구조': '계단식', 'floor_plan': 'https://ic.zigbang.com/ic/floorplan/18433/15251/d2924d3d4afa4108960003cf7a7aefe0.png', '분양가': None, '분양가PyeongPrice': None, 'has호분양가': False, 'manage_cost': {'관리비': 39, '여름관리비': 32, '겨울관리비': 60, '개별난방': True}, '거래가능시점': None, 'rent_price': {'min': 72000, 'max': 72000, 'avg': None, 'per_area': 1335, 'change': None}, 'sales_price': {'min': 103000, 'max': 103000, 'avg': None, 'per_area': 1910, 'change': None}, '공시가': {'has공시가격': False, '공시가격': None}, '유형구분': '아파트', 'special_type_message': None}, {'id': 15252, '총세대수': 12, '공급면적': {'m2': 179.67, 'p': 54.35}, '계약면적': None, '전용면적': {'m2': 134.91, 'p': 40.81}, 'room_type_title': {'m2': '179NCA', 'p': '54NCA'}, '방': 4, '욕실': 2, '현관구조': '계단식', 'floor_plan': 'https://ic.zigbang.com/ic/floorplan/18433/15252/a0046df01c23478d8105a2e26cf7193c.png', '분양가': None, '분양가PyeongPrice': None, 'has호분양가': False, 'manage_cost': {'관리비': 39, '여름관리비': 32, '겨울관리비': 60, '개별난방': True}, '거래가능시점': None, 'rent_price': {'min': 71000, 'max': 71000, 'avg': None, 'per_area': 1306, 'change': None}, 'sales_price': {'min': 101000, 'max': 101000, 'avg': None, 'per_area': 1858, 'change': None}, '공시가': {'has공시가격': False, '공시가격': None}, '유형구분': '아파트', 'special_type_message': None}, {'id': 15253, '총세대수': 1, '공급면적': {'m2': 222.91, 'p': 67.43}, '계약면적': None, '전용면적': {'m2': 167.7, 'p': 50.72}, 'room_type_title': {'m2': '222NCA1', 'p': '67NCA1'}, '방': 4, '욕실': 3, '현관구조': '계단식', 'floor_plan': 'https://ic.zigbang.com/ic/floorplan/18433/15253/5a1f01ed4c9a0a9821d6bfeec0ddfd81b95f118d.jpg', '분양가': None, '분양가PyeongPrice': None, 'has호분양가': False, 'manage_cost': {'관리비': 49, '여름관리비': 40, '겨울관리비': 74, '개별난방': True}, '거래가능시점': None, 'rent_price': {'min': 68000, 'max': 68000, 'avg': None, 'per_area': 1008, 'change': None}, 'sales_price': {'min': 117000, 'max': 117000, 'avg': None, 'per_area': 1735, 'change': None}, '공시가': {'has공시가격': False, '공시가격': None}, '유형구분': '아파트', 'special_type_message': None}, {'id': 245875, '총세대수': 2, '공급면적': {'m2': 225.82, 'p': 68.31}, '계약면적': None, '전용면적': {'m2': 167.46, 'p': 50.65}, 'room_type_title': {'m2': '225', 'p': '68'}, '방': 4, '욕실': 3, '현관구조': '계단식', 'floor_plan': 'https://ic.zigbang.com/ic/floorplan/18433/245875/4cc3072121575edc87ae81a9854140e9610f6f54.jpg', '분양가': None, '분양가PyeongPrice': None, 'has호분양가': False, 'manage_cost': {'관리비': 49, '여름관리비': 40, '겨울관리비': 74, '개별난방': True}, '거래가능시점': None, 'rent_price': {'min': 71000, 'max': 71000, 'avg': None, 'per_area': 1039, 'change': None}, 'sales_price': {'min': 123000, 'max': 123000, 'avg': None, 'per_area': 1801, 'change': None}, '공시가': {'has공시가격': False, '공시가격': None}, '유형구분': '아파트', 'special_type_message': None}, {'id': 15254, '총세대수': 25, '공급면적': {'m2': 226.65, 'p': 68.56}, '계약면적': None, '전용면적': {'m2': 167.69, 'p': 50.72}, 'room_type_title': {'m2': '226A', 'p': '68A'}, '방': 4, '욕실': 2, '현관구조': '계단식', 'floor_plan': 'https://ic.zigbang.com/ic/floorplan/18433/15254/42716e5f3f2e0a82212c5edc16cef62378294451.jpg', '분양가': None, '분양가PyeongPrice': None, 'has호분양가': False, 'manage_cost': {'관리비': 49, '여름관리비': 40, '겨울관리비': 74, '개별난방': True}, '거래가능시점': None, 'rent_price': {'min': 65000, 'max': 65000, 'avg': None, 'per_area': 948, 'change': None}, 'sales_price': {'min': 113000, 'max': 113000, 'avg': None, 'per_area': 1648, 'change': None}, '공시가': {'has공시가격': False, '공시가격': None}, '유형구분': '아파트', 'special_type_message': None}, {'id': 15255, '총세대수': 1, '공급면적': {'m2': 226.69, 'p': 68.57}, '계약면적': None, '전용면적': {'m2': 167.7, 'p': 50.72}, 'room_type_title': {'m2': '226NCA', 'p': '68NCA'}, '방': 5, '욕실': 2, '현관구조': '계단식', 'floor_plan': 'https://ic.zigbang.com/ic/floorplan/18433/15255/febb2c2030b7797aa96b3bb69563d1f9e91b93c8.jpg', '분양가': None, '분양가PyeongPrice': None, 'has호분양가': False, 'manage_cost': {'관리비': 49, '여름관리비': 40, '겨울관리비': 74, '개별난방': True}, '거래가능시점': None, 'rent_price': {'min': 68000, 'max': 68000, 'avg': None, 'per_area': 992, 'change': None}, 'sales_price': {'min': 117000, 'max': 117000, 'avg': None, 'per_area': 1706, 'change': None}, '공시가': {'has공시가격': False, '공시가격': None}, '유형구분': '아파트', 'special_type_message': None}], 'real_type': '아파트', '국민주택채권할인률': 0.044622, 'isSpecialArea': True, 'isShowCalculator': True}\n"
     ]
    }
   ],
   "source": [
    "danjiId=18433 \n",
    "url = \"https://apis.zigbang.com/v2/danjis/{}/room_types?isAgentGroupSorting=true\".format(danjiId) \n",
    "req = requests.get(url) \n",
    " \n",
    "if req.status_code == 200: \n",
    "    data = json.loads(req.text) \n",
    "    print(data)"
   ]
  },
  {
   "cell_type": "code",
   "execution_count": 19,
   "metadata": {},
   "outputs": [],
   "source": [
    "def getDanjiList(geohash):\n",
    "    url = \"https://apis.zigbang.com/v2/aparts/items?domain=zigbang&geohash={}\".format(geohash)\n",
    "    req = requests.get(url)\n",
    "    items = req.json()\n",
    " \n",
    "    danjiList=[]\n",
    "    if items[\"vrItems\"] !=[]:       ## vrItems 대상이 있으면 진행\n",
    "        for i in items[\"vrItems\"]:\n",
    "            danjiList.append(i[\"areaDanjiId\"])\n",
    "    if items[\"recommendItems\"] !=[]:       ## recommend 대상이 있으면 진행\n",
    "        for i in items[\"recommendItems\"]:\n",
    "            danjiList.append(i[\"areaDanjiId\"])\n",
    "    if items[\"items\"] !=[]:       ## Items 대상이 있으면 진행\n",
    "        for i in items[\"items\"]:\n",
    "            danjiList.append(i[\"areaDanjiId\"])\n",
    " \n",
    "    danjiList = list(set(danjiList))\n",
    " \n",
    " \n",
    "    return danjiList"
   ]
  },
  {
   "cell_type": "code",
   "execution_count": 20,
   "metadata": {},
   "outputs": [],
   "source": [
    "def rmCR(text):\n",
    "    while (\"\\n\" in text or \"\\r\" in text):\n",
    "        text = text.replace(\"\\n\",\" \")\n",
    "        text = text.replace(\"\\r\", \" \")\n",
    "    return text\n",
    " \n",
    " \n",
    "def getReviewData(danjiId):\n",
    "    reviewList=[]\n",
    " \n",
    "    url = \"https://apis.zigbang.com/property/apartments/{}/reviews/v1\".format(danjiId)\n",
    "    req_review = requests.get(url)\n",
    " \n",
    "    if req_review.status_code == 200:\n",
    "        review_data = json.loads(req_review.text)\n",
    "        if review_data[\"summary\"][\"reviewCount\"] != 0:                  # 리뷰가 없는 아파트는 스킵\n",
    "            for j in review_data[\"data\"]:\n",
    "                reviewList.append([danjiId, review_data[\"summary\"][\"danjiName\"], j[\"age\"], j[\"sex\"],\n",
    "                                    j[\"residenceType\"],j[\"residenceTime\"], j[\"married\"], j[\"score\"], rmCR(j[\"desc\"]), j[\"trafficScore\"],\n",
    "                                    rmCR(j[\"trafficDesc\"]),\n",
    "                                    j[\"aroundScore\"], rmCR(j[\"aroundDesc\"]), j[\"careScore\"], rmCR(j[\"careDesc\"]),\n",
    "                                    j[\"residentScore\"], rmCR(j[\"residentDesc\"])])\n",
    " \n",
    "    return reviewList"
   ]
  },
  {
   "cell_type": "code",
   "execution_count": 21,
   "metadata": {},
   "outputs": [],
   "source": [
    "def makeCSV(geohashName, reviewList):\n",
    "    fileName = geohashName + \".csv\"\n",
    "    f = open(fileName, 'w', encoding='utf-8', newline='')\n",
    "    wr = csv.writer(f)\n",
    "    for i in reviewList:\n",
    "        wr.writerow(i)\n",
    "    f.close()\n",
    "    print(fileName+\" has been created\")"
   ]
  },
  {
   "cell_type": "code",
   "execution_count": 22,
   "metadata": {},
   "outputs": [],
   "source": [
    "def getHigherGeohash(strgh):        # string 형태의 geohash 입력시 상위 레벨의 geohash 32개를 리스트로 전달\n",
    "    returnList=[]\n",
    "    for i in range(10):\n",
    "        returnList.append(strgh+str(i))\n",
    "    startIdx = ord('b')\n",
    "    endIdx = ord('z')\n",
    "    for i in range(startIdx, endIdx + 1):\n",
    "        if (chr(i) != 'i' and chr(i) != 'l' and chr(i) != 'o'):\n",
    "            returnList.append(strgh + chr(i))\n",
    " \n",
    "    return returnList"
   ]
  },
  {
   "cell_type": "code",
   "execution_count": 24,
   "metadata": {},
   "outputs": [
    {
     "data": {
      "application/vnd.jupyter.widget-view+json": {
       "model_id": "8390ad70d5024ed58ae1fe97a2109fb3",
       "version_major": 2,
       "version_minor": 0
      },
      "text/plain": [
       "HBox(children=(HTML(value=''), FloatProgress(value=0.0, max=4096.0), HTML(value='')))"
      ]
     },
     "metadata": {},
     "output_type": "display_data"
    },
    {
     "name": "stdout",
     "output_type": "stream",
     "text": [
      "\n"
     ]
    },
    {
     "ename": "TypeError",
     "evalue": "makeCSV() got an unexpected keyword argument 'encoding'",
     "output_type": "error",
     "traceback": [
      "\u001b[0;31m---------------------------------------------------------------------------\u001b[0m",
      "\u001b[0;31mTypeError\u001b[0m                                 Traceback (most recent call last)",
      "\u001b[0;32m<ipython-input-24-aa5e56f93894>\u001b[0m in \u001b[0;36m<module>\u001b[0;34m\u001b[0m\n\u001b[1;32m     28\u001b[0m                         \"aroundDesc\", \"careScore\", \"careDesc\", \"residentScore\", \"residentDesc\"])\n\u001b[1;32m     29\u001b[0m \u001b[0;34m\u001b[0m\u001b[0m\n\u001b[0;32m---> 30\u001b[0;31m         \u001b[0mmakeCSV\u001b[0m\u001b[0;34m(\u001b[0m\u001b[0mi\u001b[0m\u001b[0;34m,\u001b[0m\u001b[0mreviewPerGeohash\u001b[0m\u001b[0;34m,\u001b[0m\u001b[0mencoding\u001b[0m\u001b[0;34m=\u001b[0m\u001b[0;34m'cp949'\u001b[0m\u001b[0;34m)\u001b[0m\u001b[0;34m\u001b[0m\u001b[0;34m\u001b[0m\u001b[0m\n\u001b[0m\u001b[1;32m     31\u001b[0m \u001b[0;31m#     else:                                   # 리뷰가 하나도 없으면\u001b[0m\u001b[0;34m\u001b[0m\u001b[0;34m\u001b[0m\u001b[0;34m\u001b[0m\u001b[0m\n\u001b[1;32m     32\u001b[0m \u001b[0;31m#         print(i+\" doesn't have any review data\")\u001b[0m\u001b[0;34m\u001b[0m\u001b[0;34m\u001b[0m\u001b[0;34m\u001b[0m\u001b[0m\n",
      "\u001b[0;31mTypeError\u001b[0m: makeCSV() got an unexpected keyword argument 'encoding'"
     ]
    }
   ],
   "source": [
    "from tqdm.auto import tqdm\n",
    "import csv\n",
    "\n",
    "geohash = ['wyd','wye','wy6','wy7']\n",
    "tmp = []\n",
    "for i in geohash:\n",
    "    tmp4Lv=getHigherGeohash(i)\n",
    "    for j in tmp4Lv:\n",
    "        tmp5Lv=getHigherGeohash(j)\n",
    "        tmp.append(tmp5Lv)\n",
    "totalGeohash = []\n",
    "for i in tmp:\n",
    "    totalGeohash+=i\n",
    " \n",
    " \n",
    " \n",
    "for i in tqdm(totalGeohash):\n",
    "    DanjiListPerGeohash = getDanjiList(i)        # 5레벨 Geohash별로 처리\n",
    "    reviewPerGeohash=[]\n",
    "    for j in DanjiListPerGeohash:\n",
    "        tmpList = getReviewData(j)\n",
    "        if len(tmpList) > 0:\n",
    "            for z in tmpList:\n",
    "                reviewPerGeohash.append(z)\n",
    "    if len(reviewPerGeohash) > 0:           # 해당 5레벨 geohash에 리뷰가 1개라도 있으면\n",
    "        reviewPerGeohash.insert(0,[\"danji_id\", \"danji_name\", \"age\", \"sex\", \"residenceType\",\"residenceTime\", \"married\", \"totalScore\",\n",
    "                        \"totalDesc\", \"trafficScore\", \"trafficDesc\", \"aroundScore\",\n",
    "                        \"aroundDesc\", \"careScore\", \"careDesc\", \"residentScore\", \"residentDesc\"])\n",
    " \n",
    "        makeCSV(i,reviewPerGeohash)\n",
    "#     else:                                   # 리뷰가 하나도 없으면\n",
    "#         print(i+\" doesn't have any review data\")"
   ]
  },
  {
   "cell_type": "code",
   "execution_count": null,
   "metadata": {},
   "outputs": [],
   "source": []
  }
 ],
 "metadata": {
  "kernelspec": {
   "display_name": "Python 3",
   "language": "python",
   "name": "python3"
  },
  "language_info": {
   "codemirror_mode": {
    "name": "ipython",
    "version": 3
   },
   "file_extension": ".py",
   "mimetype": "text/x-python",
   "name": "python",
   "nbconvert_exporter": "python",
   "pygments_lexer": "ipython3",
   "version": "3.7.10"
  }
 },
 "nbformat": 4,
 "nbformat_minor": 4
}
