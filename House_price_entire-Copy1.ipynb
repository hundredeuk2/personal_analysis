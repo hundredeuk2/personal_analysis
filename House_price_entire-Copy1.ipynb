{
 "cells": [
  {
   "cell_type": "code",
   "execution_count": 1,
   "metadata": {},
   "outputs": [],
   "source": [
    "import pandas as pd\n",
    "import os\n",
    "import seaborn as sns\n",
    "from matplotlib import font_manager,rc\n",
    "import matplotlib\n",
    "import matplotlib.pyplot as plt\n",
    "\n",
    "# (windows)\n",
    "# font_path = 'C:/Windows/Fonts/H2GTRM.TTF'\n",
    "\n",
    "# (Mac)\n",
    "font_path = \"/Users/patricklee/Library/Fonts/NanumSquareEB.ttf\"\n",
    "font_name = font_manager.FontProperties(fname=font_path).get_name()\n",
    "matplotlib.rc('font',family=font_name)"
   ]
  },
  {
   "cell_type": "code",
   "execution_count": 2,
   "metadata": {},
   "outputs": [],
   "source": [
    "# Setting my workDirc (Windows)\n",
    "# os.chdir(\"C://Users//BIS_COM//data//project//부동산\")\n",
    "\n",
    "\n",
    "# Setting my workDirc (Mac)\n",
    "os.chdir(\"/Users/patricklee/Desktop/파이썬/Data\")"
   ]
  },
  {
   "cell_type": "code",
   "execution_count": 3,
   "metadata": {
    "scrolled": true
   },
   "outputs": [
    {
     "name": "stderr",
     "output_type": "stream",
     "text": [
      "/Users/patricklee/opt/anaconda3/envs/tensorflow/lib/python3.7/site-packages/IPython/core/interactiveshell.py:3166: DtypeWarning: Columns (12) have mixed types.Specify dtype option on import or set low_memory=False.\n",
      "  interactivity=interactivity, compiler=compiler, result=result)\n"
     ]
    }
   ],
   "source": [
    "seoul_df = pd.read_csv(r'./1.서울아파트매매.csv', encoding='cp949', parse_dates=['계약년월'])\n",
    "# busan_df = pd.read_csv(r'./2.부산아파트매매.csv', encoding='cp949')\n",
    "# daegu_df = pd.read_csv(r'./3.대구아파트매매.csv', encoding='cp949')\n",
    "# incheon_df = pd.read_csv(r'./4.인천아파트매매.csv', encoding='cp949')\n",
    "# daejeon_df = pd.read_csv(r'./5.대전아파트매매.csv', encoding='cp949')\n",
    "# sejong_df = pd.read_csv(r'./6.세종아파트매매.csv', encoding='cp949')\n",
    "# gg_df = pd.read_csv(r'./7.경기아파트매매.csv', encoding='cp949')\n",
    "# chong_df = pd.read_csv(r'./8.충북아파트매매.csv', encoding='cp949')"
   ]
  },
  {
   "cell_type": "code",
   "execution_count": 4,
   "metadata": {},
   "outputs": [],
   "source": [
    "seoul_df[\"거래금액(만원)\"] = seoul_df['거래금액(만원)'].str.replace(pat=\",\",\n",
    "                                                       repl=\"\", regex=False)\n",
    "seoul_df[\"거래금액(만원)\"] = pd.to_numeric(seoul_df['거래금액(만원)'])"
   ]
  },
  {
   "cell_type": "code",
   "execution_count": 5,
   "metadata": {
    "scrolled": true
   },
   "outputs": [
    {
     "name": "stdout",
     "output_type": "stream",
     "text": [
      "<class 'pandas.core.frame.DataFrame'>\n",
      "RangeIndex: 456015 entries, 0 to 456014\n",
      "Data columns (total 13 columns):\n",
      " #   Column       Non-Null Count   Dtype  \n",
      "---  ------       --------------   -----  \n",
      " 0   시군구          456015 non-null  object \n",
      " 1   번지           455762 non-null  object \n",
      " 2   본번           455955 non-null  float64\n",
      " 3   부번           455955 non-null  float64\n",
      " 4   단지명          456015 non-null  object \n",
      " 5   전용면적(㎡)      456015 non-null  float64\n",
      " 6   계약년월         456015 non-null  object \n",
      " 7   계약일          456015 non-null  int64  \n",
      " 8   거래금액(만원)     456015 non-null  int64  \n",
      " 9   층            456015 non-null  int64  \n",
      " 10  건축년도         456015 non-null  int64  \n",
      " 11  도로명          456015 non-null  object \n",
      " 12  Unnamed: 12  1 non-null       object \n",
      "dtypes: float64(3), int64(4), object(6)\n",
      "memory usage: 45.2+ MB\n"
     ]
    }
   ],
   "source": [
    "seoul_df.info()"
   ]
  },
  {
   "cell_type": "markdown",
   "metadata": {},
   "source": [
    "# 규제지역 중 투기과열지구\n",
    "서울 전지역(17. 8. 3)\n",
    "\n",
    "경기 과천(17.8.3), 성남분당(17.9.6), 광명,하남(18.8.28), 수원, 성남수정, 안양, 안산        단원, 구리, 군포, 의왕, 용인수지·기흥, 동탄2(20.6.19)\n",
    "\n",
    "인천 연수, 남동, 서(20.6.19)\n",
    "\n",
    "대전 동, 중, 서, 유성 (20. 6. 19)\n",
    "\n",
    "부산 -\n",
    "\n",
    "대구 수성(17.9.6\n",
    "\n",
    "세종 세종(17.8.3)\n",
    "\n",
    "충북"
   ]
  },
  {
   "cell_type": "markdown",
   "metadata": {},
   "source": [
    "# - seoul (N=25)"
   ]
  },
  {
   "cell_type": "code",
   "execution_count": 6,
   "metadata": {},
   "outputs": [],
   "source": [
    "gu_list = ['강남구', '강동구', '강북구', '강서구', '관악구', '광진구', '구로구', '금천구', '노원구',\n",
    "           '도봉구', '동대문구', '동작구', '마포구', '서대문구', '서초구', '성동구', '성북구', '송파구',\n",
    "           '양천구', '영등포구', '용산구', '은평구', '종로구', '중구', '중랑구']"
   ]
  },
  {
   "cell_type": "code",
   "execution_count": 7,
   "metadata": {
    "scrolled": true
   },
   "outputs": [
    {
     "data": {
      "text/html": [
       "<div>\n",
       "<style scoped>\n",
       "    .dataframe tbody tr th:only-of-type {\n",
       "        vertical-align: middle;\n",
       "    }\n",
       "\n",
       "    .dataframe tbody tr th {\n",
       "        vertical-align: top;\n",
       "    }\n",
       "\n",
       "    .dataframe thead th {\n",
       "        text-align: right;\n",
       "    }\n",
       "</style>\n",
       "<table border=\"1\" class=\"dataframe\">\n",
       "  <thead>\n",
       "    <tr style=\"text-align: right;\">\n",
       "      <th></th>\n",
       "      <th>계약년월</th>\n",
       "      <th>시군구</th>\n",
       "      <th>거래금액(만원)</th>\n",
       "    </tr>\n",
       "  </thead>\n",
       "  <tbody>\n",
       "    <tr>\n",
       "      <th>0</th>\n",
       "      <td>201601</td>\n",
       "      <td>서울특별시 강남구 개포동</td>\n",
       "      <td>60</td>\n",
       "    </tr>\n",
       "    <tr>\n",
       "      <th>1</th>\n",
       "      <td>201601</td>\n",
       "      <td>서울특별시 강남구 논현동</td>\n",
       "      <td>16</td>\n",
       "    </tr>\n",
       "    <tr>\n",
       "      <th>2</th>\n",
       "      <td>201601</td>\n",
       "      <td>서울특별시 강남구 대치동</td>\n",
       "      <td>37</td>\n",
       "    </tr>\n",
       "    <tr>\n",
       "      <th>3</th>\n",
       "      <td>201601</td>\n",
       "      <td>서울특별시 강남구 도곡동</td>\n",
       "      <td>33</td>\n",
       "    </tr>\n",
       "    <tr>\n",
       "      <th>4</th>\n",
       "      <td>201601</td>\n",
       "      <td>서울특별시 강남구 삼성동</td>\n",
       "      <td>31</td>\n",
       "    </tr>\n",
       "  </tbody>\n",
       "</table>\n",
       "</div>"
      ],
      "text/plain": [
       "     계약년월            시군구  거래금액(만원)\n",
       "0  201601  서울특별시 강남구 개포동        60\n",
       "1  201601  서울특별시 강남구 논현동        16\n",
       "2  201601  서울특별시 강남구 대치동        37\n",
       "3  201601  서울특별시 강남구 도곡동        33\n",
       "4  201601  서울특별시 강남구 삼성동        31"
      ]
     },
     "execution_count": 7,
     "metadata": {},
     "output_type": "execute_result"
    }
   ],
   "source": [
    "price_mean_df = seoul_df.groupby([\"계약년월\", \"시군구\"])[\n",
    "    '거래금액(만원)'].mean().reset_index()\n",
    "price_count_df = seoul_df.groupby([\"계약년월\", \"시군구\"])[\n",
    "    '거래금액(만원)'].count().reset_index()\n",
    "price_count_df.head()"
   ]
  },
  {
   "cell_type": "code",
   "execution_count": 8,
   "metadata": {
    "scrolled": true
   },
   "outputs": [
    {
     "data": {
      "text/html": [
       "<div>\n",
       "<style scoped>\n",
       "    .dataframe tbody tr th:only-of-type {\n",
       "        vertical-align: middle;\n",
       "    }\n",
       "\n",
       "    .dataframe tbody tr th {\n",
       "        vertical-align: top;\n",
       "    }\n",
       "\n",
       "    .dataframe thead th {\n",
       "        text-align: right;\n",
       "    }\n",
       "</style>\n",
       "<table border=\"1\" class=\"dataframe\">\n",
       "  <thead>\n",
       "    <tr style=\"text-align: right;\">\n",
       "      <th></th>\n",
       "      <th>계약년월</th>\n",
       "      <th>시군구</th>\n",
       "      <th>거래금액(만원)</th>\n",
       "    </tr>\n",
       "  </thead>\n",
       "  <tbody>\n",
       "    <tr>\n",
       "      <th>0</th>\n",
       "      <td>201601</td>\n",
       "      <td>서울특별시 강남구 개포동</td>\n",
       "      <td>72538.333333</td>\n",
       "    </tr>\n",
       "    <tr>\n",
       "      <th>1</th>\n",
       "      <td>201601</td>\n",
       "      <td>서울특별시 강남구 논현동</td>\n",
       "      <td>58215.625000</td>\n",
       "    </tr>\n",
       "    <tr>\n",
       "      <th>2</th>\n",
       "      <td>201601</td>\n",
       "      <td>서울특별시 강남구 대치동</td>\n",
       "      <td>119059.459459</td>\n",
       "    </tr>\n",
       "    <tr>\n",
       "      <th>3</th>\n",
       "      <td>201601</td>\n",
       "      <td>서울특별시 강남구 도곡동</td>\n",
       "      <td>123484.848485</td>\n",
       "    </tr>\n",
       "    <tr>\n",
       "      <th>4</th>\n",
       "      <td>201601</td>\n",
       "      <td>서울특별시 강남구 삼성동</td>\n",
       "      <td>129729.032258</td>\n",
       "    </tr>\n",
       "  </tbody>\n",
       "</table>\n",
       "</div>"
      ],
      "text/plain": [
       "     계약년월            시군구       거래금액(만원)\n",
       "0  201601  서울특별시 강남구 개포동   72538.333333\n",
       "1  201601  서울특별시 강남구 논현동   58215.625000\n",
       "2  201601  서울특별시 강남구 대치동  119059.459459\n",
       "3  201601  서울특별시 강남구 도곡동  123484.848485\n",
       "4  201601  서울특별시 강남구 삼성동  129729.032258"
      ]
     },
     "execution_count": 8,
     "metadata": {},
     "output_type": "execute_result"
    }
   ],
   "source": [
    "seoul_gu_df = price_mean_df.loc[price_mean_df['시군구']. str.contains(gu_list[0])]\n",
    "seoul_gu_df.head()"
   ]
  },
  {
   "cell_type": "code",
   "execution_count": 21,
   "metadata": {
    "scrolled": true
   },
   "outputs": [],
   "source": [
    "df_list = []\n",
    "\n",
    "\n",
    "\n",
    "for i in gu_list:\n",
    "    a = price_mean_df.loc[price_mean_df['시군구']. str.contains(i)]\n",
    "    globals()['df_mean_{}'.format(i)] = a.groupby(\n",
    "        ['계약년월'])['거래금액(만원)'].mean().reset_index()\n",
    "    \n",
    "    \n",
    "    # 생성된 DF 변수명들을 LIST에 추가\n",
    "    b = 'df_mean_{}'.format(i)\n",
    "    df_list.append(b)"
   ]
  },
  {
   "cell_type": "code",
   "execution_count": 10,
   "metadata": {},
   "outputs": [],
   "source": [
    "for i in gu_list:\n",
    "    a = price_count_df.loc[price_count_df['시군구']. str.contains(i)]\n",
    "    globals()['df_count_{}'.format(i)] = a.groupby(\n",
    "        ['계약년월'])['거래금액(만원)'].count().reset_index()"
   ]
  },
  {
   "cell_type": "code",
   "execution_count": 11,
   "metadata": {},
   "outputs": [],
   "source": [
    "def line_plot (data, title) :\n",
    "    fig, ax = plt.subplots(1,1, figsize=(10,5), dpi=200)\n",
    "    ax.plot(data['계약년월'], data['거래금액(만원)'])\n",
    "    ax.set_title(f'서울시 {title} 아파트 실거래가 (평균)', fontsize=15)\n",
    "    for label in ax.xaxis.get_ticklabels() :\n",
    "        label.set_rotation(90)\n",
    "    plt.show()"
   ]
  },
  {
   "cell_type": "code",
   "execution_count": 13,
   "metadata": {},
   "outputs": [],
   "source": [
    "import glob"
   ]
  },
  {
   "cell_type": "code",
   "execution_count": 19,
   "metadata": {},
   "outputs": [],
   "source": [
    "filenames = glob.glob(\"/Users/patricklee/Desktop/파이썬/Data/*.csv\")"
   ]
  },
  {
   "cell_type": "code",
   "execution_count": 20,
   "metadata": {},
   "outputs": [
    {
     "data": {
      "text/plain": [
       "['/Users/patricklee/Desktop/파이썬/Data/1.서울아파트매매.csv']"
      ]
     },
     "execution_count": 20,
     "metadata": {},
     "output_type": "execute_result"
    }
   ],
   "source": [
    "filenames"
   ]
  },
  {
   "cell_type": "code",
   "execution_count": 23,
   "metadata": {},
   "outputs": [
    {
     "data": {
      "text/plain": [
       "'df_mean_강남구'"
      ]
     },
     "execution_count": 23,
     "metadata": {},
     "output_type": "execute_result"
    }
   ],
   "source": [
    "df_list[0]"
   ]
  },
  {
   "cell_type": "code",
   "execution_count": 24,
   "metadata": {},
   "outputs": [
    {
     "ename": "TypeError",
     "evalue": "string indices must be integers",
     "output_type": "error",
     "traceback": [
      "\u001b[0;31m---------------------------------------------------------------------------\u001b[0m",
      "\u001b[0;31mTypeError\u001b[0m                                 Traceback (most recent call last)",
      "\u001b[0;32m<ipython-input-24-c09ecf6a6dcd>\u001b[0m in \u001b[0;36m<module>\u001b[0;34m\u001b[0m\n\u001b[0;32m----> 1\u001b[0;31m \u001b[0mline_plot\u001b[0m\u001b[0;34m(\u001b[0m\u001b[0mdf_list\u001b[0m\u001b[0;34m[\u001b[0m\u001b[0;36m0\u001b[0m\u001b[0;34m]\u001b[0m\u001b[0;34m,\u001b[0m\u001b[0;34m\"강남구\"\u001b[0m\u001b[0;34m)\u001b[0m\u001b[0;34m\u001b[0m\u001b[0;34m\u001b[0m\u001b[0m\n\u001b[0m",
      "\u001b[0;32m<ipython-input-11-88ff45f7bf56>\u001b[0m in \u001b[0;36mline_plot\u001b[0;34m(data, title)\u001b[0m\n\u001b[1;32m      1\u001b[0m \u001b[0;32mdef\u001b[0m \u001b[0mline_plot\u001b[0m \u001b[0;34m(\u001b[0m\u001b[0mdata\u001b[0m\u001b[0;34m,\u001b[0m \u001b[0mtitle\u001b[0m\u001b[0;34m)\u001b[0m \u001b[0;34m:\u001b[0m\u001b[0;34m\u001b[0m\u001b[0;34m\u001b[0m\u001b[0m\n\u001b[1;32m      2\u001b[0m     \u001b[0mfig\u001b[0m\u001b[0;34m,\u001b[0m \u001b[0max\u001b[0m \u001b[0;34m=\u001b[0m \u001b[0mplt\u001b[0m\u001b[0;34m.\u001b[0m\u001b[0msubplots\u001b[0m\u001b[0;34m(\u001b[0m\u001b[0;36m1\u001b[0m\u001b[0;34m,\u001b[0m\u001b[0;36m1\u001b[0m\u001b[0;34m,\u001b[0m \u001b[0mfigsize\u001b[0m\u001b[0;34m=\u001b[0m\u001b[0;34m(\u001b[0m\u001b[0;36m10\u001b[0m\u001b[0;34m,\u001b[0m\u001b[0;36m5\u001b[0m\u001b[0;34m)\u001b[0m\u001b[0;34m,\u001b[0m \u001b[0mdpi\u001b[0m\u001b[0;34m=\u001b[0m\u001b[0;36m200\u001b[0m\u001b[0;34m)\u001b[0m\u001b[0;34m\u001b[0m\u001b[0;34m\u001b[0m\u001b[0m\n\u001b[0;32m----> 3\u001b[0;31m     \u001b[0max\u001b[0m\u001b[0;34m.\u001b[0m\u001b[0mplot\u001b[0m\u001b[0;34m(\u001b[0m\u001b[0mdata\u001b[0m\u001b[0;34m[\u001b[0m\u001b[0;34m'계약년월'\u001b[0m\u001b[0;34m]\u001b[0m\u001b[0;34m,\u001b[0m \u001b[0mdata\u001b[0m\u001b[0;34m[\u001b[0m\u001b[0;34m'거래금액(만원)'\u001b[0m\u001b[0;34m]\u001b[0m\u001b[0;34m)\u001b[0m\u001b[0;34m\u001b[0m\u001b[0;34m\u001b[0m\u001b[0m\n\u001b[0m\u001b[1;32m      4\u001b[0m     \u001b[0max\u001b[0m\u001b[0;34m.\u001b[0m\u001b[0mset_title\u001b[0m\u001b[0;34m(\u001b[0m\u001b[0;34mf'서울시 {title} 아파트 실거래가 (평균)'\u001b[0m\u001b[0;34m,\u001b[0m \u001b[0mfontsize\u001b[0m\u001b[0;34m=\u001b[0m\u001b[0;36m15\u001b[0m\u001b[0;34m)\u001b[0m\u001b[0;34m\u001b[0m\u001b[0;34m\u001b[0m\u001b[0m\n\u001b[1;32m      5\u001b[0m     \u001b[0;32mfor\u001b[0m \u001b[0mlabel\u001b[0m \u001b[0;32min\u001b[0m \u001b[0max\u001b[0m\u001b[0;34m.\u001b[0m\u001b[0mxaxis\u001b[0m\u001b[0;34m.\u001b[0m\u001b[0mget_ticklabels\u001b[0m\u001b[0;34m(\u001b[0m\u001b[0;34m)\u001b[0m \u001b[0;34m:\u001b[0m\u001b[0;34m\u001b[0m\u001b[0;34m\u001b[0m\u001b[0m\n",
      "\u001b[0;31mTypeError\u001b[0m: string indices must be integers"
     ]
    },
    {
     "data": {
      "image/png": "[encoded data removed]",
      "text/plain": [
       "<Figure size 2000x1000 with 1 Axes>"
      ]
     },
     "metadata": {
      "needs_background": "light"
     },
     "output_type": "display_data"
    }
   ],
   "source": [
    "line_plot(df_list[0],\"강남구\")"
   ]
  },
  {
   "cell_type": "code",
   "execution_count": 25,
   "metadata": {
    "scrolled": true
   },
   "outputs": [
    {
     "ename": "AttributeError",
     "evalue": "'list' object has no attribute 'str'",
     "output_type": "error",
     "traceback": [
      "\u001b[0;31m---------------------------------------------------------------------------\u001b[0m",
      "\u001b[0;31mAttributeError\u001b[0m                            Traceback (most recent call last)",
      "\u001b[0;32m<ipython-input-25-d5700ddd7d5f>\u001b[0m in \u001b[0;36m<module>\u001b[0;34m\u001b[0m\n\u001b[0;32m----> 1\u001b[0;31m \u001b[0mdf_list\u001b[0m\u001b[0;34m=\u001b[0m \u001b[0mdf_list\u001b[0m\u001b[0;34m.\u001b[0m\u001b[0mstr\u001b[0m\u001b[0;34m.\u001b[0m\u001b[0mreplace\u001b[0m\u001b[0;34m(\u001b[0m\u001b[0mpat\u001b[0m\u001b[0;34m=\u001b[0m\u001b[0;34m\"'\"\u001b[0m\u001b[0;34m,\u001b[0m\u001b[0mrepl\u001b[0m\u001b[0;34m=\u001b[0m\u001b[0;34m\"\"\u001b[0m\u001b[0;34m,\u001b[0m \u001b[0mregex\u001b[0m\u001b[0;34m=\u001b[0m\u001b[0;32mFalse\u001b[0m\u001b[0;34m)\u001b[0m\u001b[0;34m\u001b[0m\u001b[0;34m\u001b[0m\u001b[0m\n\u001b[0m",
      "\u001b[0;31mAttributeError\u001b[0m: 'list' object has no attribute 'str'"
     ]
    }
   ],
   "source": [
    "df_list= df_list.str.replace(pat=\"'\",repl=\"\", regex=False)"
   ]
  },
  {
   "cell_type": "code",
   "execution_count": 28,
   "metadata": {},
   "outputs": [],
   "source": [
    "df_list =[df_mean_강남구, df_mean_강동구]"
   ]
  },
  {
   "cell_type": "code",
   "execution_count": 30,
   "metadata": {},
   "outputs": [
    {
     "data": {
      "text/html": [
       "<div>\n",
       "<style scoped>\n",
       "    .dataframe tbody tr th:only-of-type {\n",
       "        vertical-align: middle;\n",
       "    }\n",
       "\n",
       "    .dataframe tbody tr th {\n",
       "        vertical-align: top;\n",
       "    }\n",
       "\n",
       "    .dataframe thead th {\n",
       "        text-align: right;\n",
       "    }\n",
       "</style>\n",
       "<table border=\"1\" class=\"dataframe\">\n",
       "  <thead>\n",
       "    <tr style=\"text-align: right;\">\n",
       "      <th></th>\n",
       "      <th>계약년월</th>\n",
       "      <th>거래금액(만원)</th>\n",
       "    </tr>\n",
       "  </thead>\n",
       "  <tbody>\n",
       "    <tr>\n",
       "      <th>0</th>\n",
       "      <td>201601</td>\n",
       "      <td>90292.782378</td>\n",
       "    </tr>\n",
       "    <tr>\n",
       "      <th>1</th>\n",
       "      <td>201602</td>\n",
       "      <td>97718.797851</td>\n",
       "    </tr>\n",
       "    <tr>\n",
       "      <th>2</th>\n",
       "      <td>201603</td>\n",
       "      <td>91133.007423</td>\n",
       "    </tr>\n",
       "    <tr>\n",
       "      <th>3</th>\n",
       "      <td>201604</td>\n",
       "      <td>96328.192123</td>\n",
       "    </tr>\n",
       "    <tr>\n",
       "      <th>4</th>\n",
       "      <td>201605</td>\n",
       "      <td>97163.921338</td>\n",
       "    </tr>\n",
       "    <tr>\n",
       "      <th>5</th>\n",
       "      <td>201606</td>\n",
       "      <td>102428.143191</td>\n",
       "    </tr>\n",
       "    <tr>\n",
       "      <th>6</th>\n",
       "      <td>201607</td>\n",
       "      <td>103116.203503</td>\n",
       "    </tr>\n",
       "    <tr>\n",
       "      <th>7</th>\n",
       "      <td>201608</td>\n",
       "      <td>105376.238534</td>\n",
       "    </tr>\n",
       "    <tr>\n",
       "      <th>8</th>\n",
       "      <td>201609</td>\n",
       "      <td>108085.158616</td>\n",
       "    </tr>\n",
       "    <tr>\n",
       "      <th>9</th>\n",
       "      <td>201610</td>\n",
       "      <td>111633.157429</td>\n",
       "    </tr>\n",
       "    <tr>\n",
       "      <th>10</th>\n",
       "      <td>201611</td>\n",
       "      <td>120130.280868</td>\n",
       "    </tr>\n",
       "    <tr>\n",
       "      <th>11</th>\n",
       "      <td>201612</td>\n",
       "      <td>122718.908812</td>\n",
       "    </tr>\n",
       "    <tr>\n",
       "      <th>12</th>\n",
       "      <td>201701</td>\n",
       "      <td>111279.933110</td>\n",
       "    </tr>\n",
       "    <tr>\n",
       "      <th>13</th>\n",
       "      <td>201702</td>\n",
       "      <td>112683.689556</td>\n",
       "    </tr>\n",
       "    <tr>\n",
       "      <th>14</th>\n",
       "      <td>201703</td>\n",
       "      <td>112723.814843</td>\n",
       "    </tr>\n",
       "    <tr>\n",
       "      <th>15</th>\n",
       "      <td>201704</td>\n",
       "      <td>116901.754496</td>\n",
       "    </tr>\n",
       "    <tr>\n",
       "      <th>16</th>\n",
       "      <td>201705</td>\n",
       "      <td>112558.519892</td>\n",
       "    </tr>\n",
       "    <tr>\n",
       "      <th>17</th>\n",
       "      <td>201706</td>\n",
       "      <td>112126.985292</td>\n",
       "    </tr>\n",
       "    <tr>\n",
       "      <th>18</th>\n",
       "      <td>201707</td>\n",
       "      <td>117222.572056</td>\n",
       "    </tr>\n",
       "    <tr>\n",
       "      <th>19</th>\n",
       "      <td>201708</td>\n",
       "      <td>135987.779286</td>\n",
       "    </tr>\n",
       "    <tr>\n",
       "      <th>20</th>\n",
       "      <td>201709</td>\n",
       "      <td>114505.331731</td>\n",
       "    </tr>\n",
       "    <tr>\n",
       "      <th>21</th>\n",
       "      <td>201710</td>\n",
       "      <td>120622.394191</td>\n",
       "    </tr>\n",
       "    <tr>\n",
       "      <th>22</th>\n",
       "      <td>201711</td>\n",
       "      <td>127472.589382</td>\n",
       "    </tr>\n",
       "    <tr>\n",
       "      <th>23</th>\n",
       "      <td>201712</td>\n",
       "      <td>128687.845831</td>\n",
       "    </tr>\n",
       "    <tr>\n",
       "      <th>24</th>\n",
       "      <td>201801</td>\n",
       "      <td>135814.475923</td>\n",
       "    </tr>\n",
       "    <tr>\n",
       "      <th>25</th>\n",
       "      <td>201802</td>\n",
       "      <td>140450.945352</td>\n",
       "    </tr>\n",
       "    <tr>\n",
       "      <th>26</th>\n",
       "      <td>201803</td>\n",
       "      <td>136682.441831</td>\n",
       "    </tr>\n",
       "    <tr>\n",
       "      <th>27</th>\n",
       "      <td>201804</td>\n",
       "      <td>134304.843671</td>\n",
       "    </tr>\n",
       "    <tr>\n",
       "      <th>28</th>\n",
       "      <td>201805</td>\n",
       "      <td>135313.129944</td>\n",
       "    </tr>\n",
       "    <tr>\n",
       "      <th>29</th>\n",
       "      <td>201806</td>\n",
       "      <td>141791.034799</td>\n",
       "    </tr>\n",
       "    <tr>\n",
       "      <th>30</th>\n",
       "      <td>201807</td>\n",
       "      <td>141568.681077</td>\n",
       "    </tr>\n",
       "    <tr>\n",
       "      <th>31</th>\n",
       "      <td>201808</td>\n",
       "      <td>148819.231475</td>\n",
       "    </tr>\n",
       "    <tr>\n",
       "      <th>32</th>\n",
       "      <td>201809</td>\n",
       "      <td>163907.595038</td>\n",
       "    </tr>\n",
       "    <tr>\n",
       "      <th>33</th>\n",
       "      <td>201810</td>\n",
       "      <td>138746.338609</td>\n",
       "    </tr>\n",
       "    <tr>\n",
       "      <th>34</th>\n",
       "      <td>201811</td>\n",
       "      <td>143598.467643</td>\n",
       "    </tr>\n",
       "    <tr>\n",
       "      <th>35</th>\n",
       "      <td>201812</td>\n",
       "      <td>155103.118903</td>\n",
       "    </tr>\n",
       "    <tr>\n",
       "      <th>36</th>\n",
       "      <td>201901</td>\n",
       "      <td>164778.899283</td>\n",
       "    </tr>\n",
       "    <tr>\n",
       "      <th>37</th>\n",
       "      <td>201902</td>\n",
       "      <td>147969.166667</td>\n",
       "    </tr>\n",
       "    <tr>\n",
       "      <th>38</th>\n",
       "      <td>201903</td>\n",
       "      <td>147104.441633</td>\n",
       "    </tr>\n",
       "    <tr>\n",
       "      <th>39</th>\n",
       "      <td>201904</td>\n",
       "      <td>145867.963974</td>\n",
       "    </tr>\n",
       "    <tr>\n",
       "      <th>40</th>\n",
       "      <td>201905</td>\n",
       "      <td>158187.261258</td>\n",
       "    </tr>\n",
       "    <tr>\n",
       "      <th>41</th>\n",
       "      <td>201906</td>\n",
       "      <td>154143.023788</td>\n",
       "    </tr>\n",
       "    <tr>\n",
       "      <th>42</th>\n",
       "      <td>201907</td>\n",
       "      <td>164901.724080</td>\n",
       "    </tr>\n",
       "    <tr>\n",
       "      <th>43</th>\n",
       "      <td>201908</td>\n",
       "      <td>163231.799309</td>\n",
       "    </tr>\n",
       "    <tr>\n",
       "      <th>44</th>\n",
       "      <td>201909</td>\n",
       "      <td>165239.872515</td>\n",
       "    </tr>\n",
       "    <tr>\n",
       "      <th>45</th>\n",
       "      <td>201910</td>\n",
       "      <td>165039.382998</td>\n",
       "    </tr>\n",
       "    <tr>\n",
       "      <th>46</th>\n",
       "      <td>201911</td>\n",
       "      <td>163857.387065</td>\n",
       "    </tr>\n",
       "    <tr>\n",
       "      <th>47</th>\n",
       "      <td>201912</td>\n",
       "      <td>160962.328136</td>\n",
       "    </tr>\n",
       "    <tr>\n",
       "      <th>48</th>\n",
       "      <td>202001</td>\n",
       "      <td>154558.642290</td>\n",
       "    </tr>\n",
       "    <tr>\n",
       "      <th>49</th>\n",
       "      <td>202002</td>\n",
       "      <td>155797.933464</td>\n",
       "    </tr>\n",
       "    <tr>\n",
       "      <th>50</th>\n",
       "      <td>202003</td>\n",
       "      <td>160873.453865</td>\n",
       "    </tr>\n",
       "    <tr>\n",
       "      <th>51</th>\n",
       "      <td>202004</td>\n",
       "      <td>166290.745602</td>\n",
       "    </tr>\n",
       "    <tr>\n",
       "      <th>52</th>\n",
       "      <td>202005</td>\n",
       "      <td>157656.728903</td>\n",
       "    </tr>\n",
       "    <tr>\n",
       "      <th>53</th>\n",
       "      <td>202006</td>\n",
       "      <td>167525.052650</td>\n",
       "    </tr>\n",
       "    <tr>\n",
       "      <th>54</th>\n",
       "      <td>202007</td>\n",
       "      <td>156771.536282</td>\n",
       "    </tr>\n",
       "    <tr>\n",
       "      <th>55</th>\n",
       "      <td>202008</td>\n",
       "      <td>172122.830926</td>\n",
       "    </tr>\n",
       "    <tr>\n",
       "      <th>56</th>\n",
       "      <td>202009</td>\n",
       "      <td>171241.313009</td>\n",
       "    </tr>\n",
       "    <tr>\n",
       "      <th>57</th>\n",
       "      <td>202010</td>\n",
       "      <td>184287.157087</td>\n",
       "    </tr>\n",
       "    <tr>\n",
       "      <th>58</th>\n",
       "      <td>202011</td>\n",
       "      <td>174617.869103</td>\n",
       "    </tr>\n",
       "    <tr>\n",
       "      <th>59</th>\n",
       "      <td>202012</td>\n",
       "      <td>189233.867325</td>\n",
       "    </tr>\n",
       "  </tbody>\n",
       "</table>\n",
       "</div>"
      ],
      "text/plain": [
       "      계약년월       거래금액(만원)\n",
       "0   201601   90292.782378\n",
       "1   201602   97718.797851\n",
       "2   201603   91133.007423\n",
       "3   201604   96328.192123\n",
       "4   201605   97163.921338\n",
       "5   201606  102428.143191\n",
       "6   201607  103116.203503\n",
       "7   201608  105376.238534\n",
       "8   201609  108085.158616\n",
       "9   201610  111633.157429\n",
       "10  201611  120130.280868\n",
       "11  201612  122718.908812\n",
       "12  201701  111279.933110\n",
       "13  201702  112683.689556\n",
       "14  201703  112723.814843\n",
       "15  201704  116901.754496\n",
       "16  201705  112558.519892\n",
       "17  201706  112126.985292\n",
       "18  201707  117222.572056\n",
       "19  201708  135987.779286\n",
       "20  201709  114505.331731\n",
       "21  201710  120622.394191\n",
       "22  201711  127472.589382\n",
       "23  201712  128687.845831\n",
       "24  201801  135814.475923\n",
       "25  201802  140450.945352\n",
       "26  201803  136682.441831\n",
       "27  201804  134304.843671\n",
       "28  201805  135313.129944\n",
       "29  201806  141791.034799\n",
       "30  201807  141568.681077\n",
       "31  201808  148819.231475\n",
       "32  201809  163907.595038\n",
       "33  201810  138746.338609\n",
       "34  201811  143598.467643\n",
       "35  201812  155103.118903\n",
       "36  201901  164778.899283\n",
       "37  201902  147969.166667\n",
       "38  201903  147104.441633\n",
       "39  201904  145867.963974\n",
       "40  201905  158187.261258\n",
       "41  201906  154143.023788\n",
       "42  201907  164901.724080\n",
       "43  201908  163231.799309\n",
       "44  201909  165239.872515\n",
       "45  201910  165039.382998\n",
       "46  201911  163857.387065\n",
       "47  201912  160962.328136\n",
       "48  202001  154558.642290\n",
       "49  202002  155797.933464\n",
       "50  202003  160873.453865\n",
       "51  202004  166290.745602\n",
       "52  202005  157656.728903\n",
       "53  202006  167525.052650\n",
       "54  202007  156771.536282\n",
       "55  202008  172122.830926\n",
       "56  202009  171241.313009\n",
       "57  202010  184287.157087\n",
       "58  202011  174617.869103\n",
       "59  202012  189233.867325"
      ]
     },
     "execution_count": 30,
     "metadata": {},
     "output_type": "execute_result"
    }
   ],
   "source": [
    "df_list[0]"
   ]
  },
  {
   "cell_type": "code",
   "execution_count": null,
   "metadata": {},
   "outputs": [],
   "source": []
  }
 ],
 "metadata": {
  "kernelspec": {
   "display_name": "Python 3",
   "language": "python",
   "name": "python3"
  },
  "language_info": {
   "codemirror_mode": {
    "name": "ipython",
    "version": 3
   },
   "file_extension": ".py",
   "mimetype": "text/x-python",
   "name": "python",
   "nbconvert_exporter": "python",
   "pygments_lexer": "ipython3",
   "version": "3.7.10"
  }
 },
 "nbformat": 4,
 "nbformat_minor": 4
}
